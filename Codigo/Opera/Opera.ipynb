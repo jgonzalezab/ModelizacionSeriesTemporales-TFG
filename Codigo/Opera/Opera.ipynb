{
 "cells": [
  {
   "cell_type": "markdown",
   "metadata": {},
   "source": [
    "# Opera Package"
   ]
  },
  {
   "cell_type": "markdown",
   "metadata": {},
   "source": [
    "#### Cargamos las librerias auxiliares"
   ]
  },
  {
   "cell_type": "code",
   "execution_count": 1,
   "metadata": {
    "collapsed": true
   },
   "outputs": [
    {
     "name": "stderr",
     "output_type": "stream",
     "text": [
      "Warning message:\n",
      "\"package 'ggplot2' was built under R version 3.3.3\"Warning message:\n",
      "\"package 'zoo' was built under R version 3.3.3\"\n",
      "Attaching package: 'zoo'\n",
      "\n",
      "The following objects are masked from 'package:base':\n",
      "\n",
      "    as.Date, as.Date.numeric\n",
      "\n",
      "Warning message:\n",
      "\"package 'tseries' was built under R version 3.3.3\"Warning message:\n",
      "\"package 'FitARMA' was built under R version 3.3.3\"Loading required package: FitAR\n",
      "Warning message:\n",
      "\"package 'FitAR' was built under R version 3.3.3\"Loading required package: lattice\n",
      "Warning message:\n",
      "\"package 'lattice' was built under R version 3.3.3\"Loading required package: leaps\n",
      "Warning message:\n",
      "\"package 'leaps' was built under R version 3.3.3\"Loading required package: ltsa\n",
      "Loading required package: bestglm\n",
      "Warning message:\n",
      "\"package 'bestglm' was built under R version 3.3.3\"\n",
      "Attaching package: 'FitAR'\n",
      "\n",
      "The following object is masked from 'package:forecast':\n",
      "\n",
      "    BoxCox\n",
      "\n"
     ]
    }
   ],
   "source": [
    "library(ggplot2)\n",
    "library(zoo)\n",
    "library(forecast)\n",
    "library(tseries)\n",
    "library(FitARMA)"
   ]
  },
  {
   "cell_type": "markdown",
   "metadata": {},
   "source": [
    "#### Cargamos Opera"
   ]
  },
  {
   "cell_type": "code",
   "execution_count": 2,
   "metadata": {
    "collapsed": true
   },
   "outputs": [
    {
     "name": "stderr",
     "output_type": "stream",
     "text": [
      "Warning message:\n",
      "\"package 'opera' was built under R version 3.3.3\""
     ]
    }
   ],
   "source": [
    "#install.packages('opera')\n",
    "library(opera)"
   ]
  },
  {
   "cell_type": "markdown",
   "metadata": {},
   "source": [
    "#### Cargamos los datos"
   ]
  },
  {
   "cell_type": "code",
   "execution_count": 3,
   "metadata": {
    "collapsed": true
   },
   "outputs": [],
   "source": [
    "datos <- read.csv('monthly-traffic-fatalities-in-on.csv')\n",
    "accidentes <- ts(datos, start = c(1960, 1), frequency = 12)"
   ]
  },
  {
   "cell_type": "markdown",
   "metadata": {},
   "source": [
    "#### Training y test"
   ]
  },
  {
   "cell_type": "code",
   "execution_count": 4,
   "metadata": {
    "collapsed": true
   },
   "outputs": [],
   "source": [
    "acc.train <- window(accidentes, start = c(1960,1), end = c(1973,12))\n",
    "acc.test <- window(accidentes, start = c(1974,1))"
   ]
  },
  {
   "cell_type": "markdown",
   "metadata": {},
   "source": [
    "#### Función genérica para plotting de test vs pred a través de ggplot2"
   ]
  },
  {
   "cell_type": "code",
   "execution_count": 5,
   "metadata": {
    "collapsed": true
   },
   "outputs": [],
   "source": [
    "combine <- function(test, pred) {\n",
    "  require(ggplot2)\n",
    "  p <- ggplot() +\n",
    "    geom_line(aes(x = index(as.zoo(test)), y = coredata(as.zoo(test)), colour = 'Test')) +\n",
    "    geom_line(aes(x = index(as.zoo(test)), y = pred, colour = 'Prediccion')) +\n",
    "    scale_color_manual(name = 'Leyenda', values = c('Test' = 'black', 'Prediccion' = 'red'),\n",
    "                       labels = c('Test','Prediccion'))\n",
    "  p\n",
    "}"
   ]
  },
  {
   "cell_type": "markdown",
   "metadata": {},
   "source": [
    "#### Red neuronal"
   ]
  },
  {
   "cell_type": "code",
   "execution_count": 6,
   "metadata": {
    "collapsed": false
   },
   "outputs": [
    {
     "data": {
      "text/html": [
       "<table>\n",
       "<thead><tr><th></th><th scope=col>ME</th><th scope=col>RMSE</th><th scope=col>MAE</th><th scope=col>MPE</th><th scope=col>MAPE</th><th scope=col>MASE</th><th scope=col>ACF1</th><th scope=col>Theil's U</th></tr></thead>\n",
       "<tbody>\n",
       "\t<tr><th scope=row>Training set</th><td> 0.002991391</td><td>19.34309    </td><td>15.19108    </td><td>-2.903809   </td><td>11.53244    </td><td>0.8564541   </td><td> 0.1844513  </td><td>       NA   </td></tr>\n",
       "\t<tr><th scope=row>Test set</th><td>-5.963355912</td><td>14.82810    </td><td>13.28108    </td><td>-5.740246   </td><td>10.15662    </td><td>0.7487704   </td><td>-0.4263985  </td><td>0.4423592   </td></tr>\n",
       "</tbody>\n",
       "</table>\n"
      ],
      "text/latex": [
       "\\begin{tabular}{r|llllllll}\n",
       "  & ME & RMSE & MAE & MPE & MAPE & MASE & ACF1 & Theil's U\\\\\n",
       "\\hline\n",
       "\tTraining set &  0.002991391 & 19.34309     & 15.19108     & -2.903809    & 11.53244     & 0.8564541    &  0.1844513   &        NA   \\\\\n",
       "\tTest set & -5.963355912 & 14.82810     & 13.28108     & -5.740246    & 10.15662     & 0.7487704    & -0.4263985   & 0.4423592   \\\\\n",
       "\\end{tabular}\n"
      ],
      "text/markdown": [
       "\n",
       "| <!--/--> | ME | RMSE | MAE | MPE | MAPE | MASE | ACF1 | Theil's U | \n",
       "|---|---|\n",
       "| Training set |  0.002991391 | 19.34309     | 15.19108     | -2.903809    | 11.53244     | 0.8564541    |  0.1844513   |        NA    | \n",
       "| Test set | -5.963355912 | 14.82810     | 13.28108     | -5.740246    | 10.15662     | 0.7487704    | -0.4263985   | 0.4423592    | \n",
       "\n",
       "\n"
      ],
      "text/plain": [
       "             ME           RMSE     MAE      MPE       MAPE     MASE     \n",
       "Training set  0.002991391 19.34309 15.19108 -2.903809 11.53244 0.8564541\n",
       "Test set     -5.963355912 14.82810 13.28108 -5.740246 10.15662 0.7487704\n",
       "             ACF1       Theil's U\n",
       "Training set  0.1844513        NA\n",
       "Test set     -0.4263985 0.4423592"
      ]
     },
     "metadata": {},
     "output_type": "display_data"
    }
   ],
   "source": [
    "red <- nnetar(acc.train, repeats = 25, size = 20, decay = 9.5, p = 20, P = 4)\n",
    "pred.red <- forecast(red, h = 12)\n",
    "accuracy(pred.red, acc.test) # 13.2..."
   ]
  },
  {
   "cell_type": "markdown",
   "metadata": {},
   "source": [
    "<br>"
   ]
  },
  {
   "cell_type": "markdown",
   "metadata": {},
   "source": [
    "#### SARIMA(1,0,0)(1,0,0)12"
   ]
  },
  {
   "cell_type": "code",
   "execution_count": 7,
   "metadata": {
    "collapsed": false
   },
   "outputs": [
    {
     "data": {
      "text/html": [
       "<table>\n",
       "<thead><tr><th></th><th scope=col>ME</th><th scope=col>RMSE</th><th scope=col>MAE</th><th scope=col>MPE</th><th scope=col>MAPE</th><th scope=col>MASE</th><th scope=col>ACF1</th><th scope=col>Theil's U</th></tr></thead>\n",
       "<tbody>\n",
       "\t<tr><th scope=row>Training set</th><td> 1.481911 </td><td>20.89727  </td><td>16.32299  </td><td>-2.080903 </td><td>13.43304  </td><td>0.9202698 </td><td>-0.0813211</td><td>       NA </td></tr>\n",
       "\t<tr><th scope=row>Test set</th><td>-8.013324 </td><td>18.19253  </td><td>14.86938  </td><td>-8.041157 </td><td>12.04800  </td><td>0.8383172 </td><td>-0.2694620</td><td>0.4505771 </td></tr>\n",
       "</tbody>\n",
       "</table>\n"
      ],
      "text/latex": [
       "\\begin{tabular}{r|llllllll}\n",
       "  & ME & RMSE & MAE & MPE & MAPE & MASE & ACF1 & Theil's U\\\\\n",
       "\\hline\n",
       "\tTraining set &  1.481911  & 20.89727   & 16.32299   & -2.080903  & 13.43304   & 0.9202698  & -0.0813211 &        NA \\\\\n",
       "\tTest set & -8.013324  & 18.19253   & 14.86938   & -8.041157  & 12.04800   & 0.8383172  & -0.2694620 & 0.4505771 \\\\\n",
       "\\end{tabular}\n"
      ],
      "text/markdown": [
       "\n",
       "| <!--/--> | ME | RMSE | MAE | MPE | MAPE | MASE | ACF1 | Theil's U | \n",
       "|---|---|\n",
       "| Training set |  1.481911  | 20.89727   | 16.32299   | -2.080903  | 13.43304   | 0.9202698  | -0.0813211 |        NA  | \n",
       "| Test set | -8.013324  | 18.19253   | 14.86938   | -8.041157  | 12.04800   | 0.8383172  | -0.2694620 | 0.4505771  | \n",
       "\n",
       "\n"
      ],
      "text/plain": [
       "             ME        RMSE     MAE      MPE       MAPE     MASE     \n",
       "Training set  1.481911 20.89727 16.32299 -2.080903 13.43304 0.9202698\n",
       "Test set     -8.013324 18.19253 14.86938 -8.041157 12.04800 0.8383172\n",
       "             ACF1       Theil's U\n",
       "Training set -0.0813211        NA\n",
       "Test set     -0.2694620 0.4505771"
      ]
     },
     "metadata": {},
     "output_type": "display_data"
    }
   ],
   "source": [
    "sarima <- auto.arima(acc.train, test = 'adf')\n",
    "pred.sarima <- forecast(sarima, h = 12)\n",
    "accuracy(pred.sarima, acc.test) # 14.86938"
   ]
  },
  {
   "cell_type": "markdown",
   "metadata": {},
   "source": [
    "<br>"
   ]
  },
  {
   "cell_type": "markdown",
   "metadata": {},
   "source": [
    "#### Damped HoltWinters Mutiplicativo"
   ]
  },
  {
   "cell_type": "code",
   "execution_count": 8,
   "metadata": {
    "collapsed": false
   },
   "outputs": [
    {
     "data": {
      "text/html": [
       "<table>\n",
       "<thead><tr><th></th><th scope=col>ME</th><th scope=col>RMSE</th><th scope=col>MAE</th><th scope=col>MPE</th><th scope=col>MAPE</th><th scope=col>MASE</th><th scope=col>ACF1</th><th scope=col>Theil's U</th></tr></thead>\n",
       "<tbody>\n",
       "\t<tr><th scope=row>Training set</th><td>  1.113903 </td><td>16.03383   </td><td>12.68223   </td><td> -0.4267724</td><td> 9.854084  </td><td>0.7150085  </td><td> 0.08131717</td><td>       NA  </td></tr>\n",
       "\t<tr><th scope=row>Test set</th><td>-13.063209 </td><td>20.12153   </td><td>15.04762   </td><td>-10.5419375</td><td>11.866680  </td><td>0.8483659  </td><td>-0.33286407</td><td>0.5553684  </td></tr>\n",
       "</tbody>\n",
       "</table>\n"
      ],
      "text/latex": [
       "\\begin{tabular}{r|llllllll}\n",
       "  & ME & RMSE & MAE & MPE & MAPE & MASE & ACF1 & Theil's U\\\\\n",
       "\\hline\n",
       "\tTraining set &   1.113903  & 16.03383    & 12.68223    &  -0.4267724 &  9.854084   & 0.7150085   &  0.08131717 &        NA  \\\\\n",
       "\tTest set & -13.063209  & 20.12153    & 15.04762    & -10.5419375 & 11.866680   & 0.8483659   & -0.33286407 & 0.5553684  \\\\\n",
       "\\end{tabular}\n"
      ],
      "text/markdown": [
       "\n",
       "| <!--/--> | ME | RMSE | MAE | MPE | MAPE | MASE | ACF1 | Theil's U | \n",
       "|---|---|\n",
       "| Training set |   1.113903  | 16.03383    | 12.68223    |  -0.4267724 |  9.854084   | 0.7150085   |  0.08131717 |        NA   | \n",
       "| Test set | -13.063209  | 20.12153    | 15.04762    | -10.5419375 | 11.866680   | 0.8483659   | -0.33286407 | 0.5553684   | \n",
       "\n",
       "\n"
      ],
      "text/plain": [
       "             ME         RMSE     MAE      MPE         MAPE      MASE     \n",
       "Training set   1.113903 16.03383 12.68223  -0.4267724  9.854084 0.7150085\n",
       "Test set     -13.063209 20.12153 15.04762 -10.5419375 11.866680 0.8483659\n",
       "             ACF1        Theil's U\n",
       "Training set  0.08131717        NA\n",
       "Test set     -0.33286407 0.5553684"
      ]
     },
     "metadata": {},
     "output_type": "display_data"
    }
   ],
   "source": [
    "pred.hw <- hw(acc.train, h = 12, damped = TRUE, seasonal = 'multiplicative',\n",
    "            initial = 'optimal')\n",
    "accuracy(pred.hw, acc.test) # 15.04762"
   ]
  },
  {
   "cell_type": "markdown",
   "metadata": {},
   "source": [
    "<br>"
   ]
  },
  {
   "cell_type": "markdown",
   "metadata": {},
   "source": [
    "#### Juntamos las predicciones"
   ]
  },
  {
   "cell_type": "code",
   "execution_count": 9,
   "metadata": {
    "collapsed": false
   },
   "outputs": [
    {
     "name": "stderr",
     "output_type": "stream",
     "text": [
      "Don't know how to automatically pick scale for object of type yearmon. Defaulting to continuous.\n"
     ]
    },
    {
     "data": {},
     "metadata": {},
     "output_type": "display_data"
    },
    {
     "data": {
      "image/png": "[encoded data removed]",
      "text/plain": [
       "plot without title"
      ]
     },
     "metadata": {},
     "output_type": "display_data"
    }
   ],
   "source": [
    "X <- cbind(red = pred.red$mean, sarima = pred.sarima$mean, hw = pred.hw$mean)\n",
    "p <- ggplot() +\n",
    "  geom_line(aes(x = index(as.zoo(acc.test)), y = coredata(as.zoo(acc.test)))) +\n",
    "  geom_line(aes(x = index(as.zoo(acc.test)), y = X[, 1]), col = 'blue') +\n",
    "  geom_line(aes(x = index(as.zoo(acc.test)), y = X[, 2]), col = 'red') +\n",
    "  geom_line(aes(x = index(as.zoo(acc.test)), y = X[, 3]), col = 'green')\n",
    "p"
   ]
  },
  {
   "cell_type": "markdown",
   "metadata": {},
   "source": [
    "#### Loss"
   ]
  },
  {
   "cell_type": "code",
   "execution_count": 10,
   "metadata": {
    "collapsed": false
   },
   "outputs": [
    {
     "data": {
      "text/html": [
       "<table>\n",
       "<thead><tr><th scope=col>red</th><th scope=col>sarima</th><th scope=col>hw</th></tr></thead>\n",
       "<tbody>\n",
       "\t<tr><td>18.0222336</td><td>38.527985 </td><td>18.450649 </td></tr>\n",
       "\t<tr><td>10.9709385</td><td>10.320400 </td><td> 9.710105 </td></tr>\n",
       "\t<tr><td>11.0888682</td><td> 7.150485 </td><td> 5.664850 </td></tr>\n",
       "\t<tr><td>20.4464944</td><td>19.718444 </td><td>22.231049 </td></tr>\n",
       "\t<tr><td> 0.6493262</td><td> 7.863369 </td><td> 1.744073 </td></tr>\n",
       "\t<tr><td>21.2690722</td><td>17.094233 </td><td>21.410794 </td></tr>\n",
       "\t<tr><td> 0.8272540</td><td> 4.476612 </td><td> 1.277397 </td></tr>\n",
       "\t<tr><td>16.0762752</td><td> 3.778124 </td><td> 3.435301 </td></tr>\n",
       "\t<tr><td>19.4237392</td><td>10.727018 </td><td>20.507963 </td></tr>\n",
       "\t<tr><td>10.5268326</td><td> 6.081625 </td><td>26.904985 </td></tr>\n",
       "\t<tr><td>15.2645951</td><td>28.796364 </td><td> 1.528908 </td></tr>\n",
       "\t<tr><td>14.8072792</td><td>23.897923 </td><td>47.705347 </td></tr>\n",
       "</tbody>\n",
       "</table>\n"
      ],
      "text/latex": [
       "\\begin{tabular}{lll}\n",
       " red & sarima & hw\\\\\n",
       "\\hline\n",
       "\t 18.0222336 & 38.527985  & 18.450649 \\\\\n",
       "\t 10.9709385 & 10.320400  &  9.710105 \\\\\n",
       "\t 11.0888682 &  7.150485  &  5.664850 \\\\\n",
       "\t 20.4464944 & 19.718444  & 22.231049 \\\\\n",
       "\t  0.6493262 &  7.863369  &  1.744073 \\\\\n",
       "\t 21.2690722 & 17.094233  & 21.410794 \\\\\n",
       "\t  0.8272540 &  4.476612  &  1.277397 \\\\\n",
       "\t 16.0762752 &  3.778124  &  3.435301 \\\\\n",
       "\t 19.4237392 & 10.727018  & 20.507963 \\\\\n",
       "\t 10.5268326 &  6.081625  & 26.904985 \\\\\n",
       "\t 15.2645951 & 28.796364  &  1.528908 \\\\\n",
       "\t 14.8072792 & 23.897923  & 47.705347 \\\\\n",
       "\\end{tabular}\n"
      ],
      "text/markdown": [
       "\n",
       "red | sarima | hw | \n",
       "|---|---|---|---|---|---|---|---|---|---|---|---|\n",
       "| 18.0222336 | 38.527985  | 18.450649  | \n",
       "| 10.9709385 | 10.320400  |  9.710105  | \n",
       "| 11.0888682 |  7.150485  |  5.664850  | \n",
       "| 20.4464944 | 19.718444  | 22.231049  | \n",
       "|  0.6493262 |  7.863369  |  1.744073  | \n",
       "| 21.2690722 | 17.094233  | 21.410794  | \n",
       "|  0.8272540 |  4.476612  |  1.277397  | \n",
       "| 16.0762752 |  3.778124  |  3.435301  | \n",
       "| 19.4237392 | 10.727018  | 20.507963  | \n",
       "| 10.5268326 |  6.081625  | 26.904985  | \n",
       "| 15.2645951 | 28.796364  |  1.528908  | \n",
       "| 14.8072792 | 23.897923  | 47.705347  | \n",
       "\n",
       "\n"
      ],
      "text/plain": [
       "      red        sarima    hw       \n",
       " [1,] 18.0222336 38.527985 18.450649\n",
       " [2,] 10.9709385 10.320400  9.710105\n",
       " [3,] 11.0888682  7.150485  5.664850\n",
       " [4,] 20.4464944 19.718444 22.231049\n",
       " [5,]  0.6493262  7.863369  1.744073\n",
       " [6,] 21.2690722 17.094233 21.410794\n",
       " [7,]  0.8272540  4.476612  1.277397\n",
       " [8,] 16.0762752  3.778124  3.435301\n",
       " [9,] 19.4237392 10.727018 20.507963\n",
       "[10,] 10.5268326  6.081625 26.904985\n",
       "[11,] 15.2645951 28.796364  1.528908\n",
       "[12,] 14.8072792 23.897923 47.705347"
      ]
     },
     "metadata": {},
     "output_type": "display_data"
    }
   ],
   "source": [
    "loss(X, as.vector(acc.test), loss.type = 'absolute')"
   ]
  },
  {
   "cell_type": "markdown",
   "metadata": {},
   "source": [
    "#### Oracle (Convex y Linear) Offline"
   ]
  },
  {
   "cell_type": "code",
   "execution_count": 11,
   "metadata": {
    "collapsed": false
   },
   "outputs": [
    {
     "name": "stderr",
     "output_type": "stream",
     "text": [
      "Warning message in bestConvex(Y, experts, awake = awake, loss.type = loss.type, :\n",
      "\"The best convex oracle is only approximated (using optim).\""
     ]
    },
    {
     "data": {
      "image/png": "[encoded data removed]",
      "text/plain": [
       "Plot with title \"Average loss suffered by the experts\""
      ]
     },
     "metadata": {},
     "output_type": "display_data"
    }
   ],
   "source": [
    "oracle.convex <- oracle(Y = acc.test, experts = X, loss.type = \"absolute\", model = \"convex\")\n",
    "plot(oracle.convex)"
   ]
  },
  {
   "cell_type": "code",
   "execution_count": 12,
   "metadata": {
    "collapsed": false
   },
   "outputs": [
    {
     "name": "stdout",
     "output_type": "stream",
     "text": [
      "Call:\n",
      "oracle.default(Y = acc.test, experts = X, model = \"convex\", loss.type = \"absolute\")\n",
      "\n",
      "Coefficients:\n",
      "   red sarima       hw\n",
      " 0.392  0.608 6.42e-21\n",
      "\n",
      "                      rmse  mape\n",
      "Best expert oracle:   14.8 0.102\n",
      "Uniform combination:  16.2 0.109\n",
      "Best convex oracle:   16.0 0.105\n"
     ]
    }
   ],
   "source": [
    "print(oracle.convex)"
   ]
  },
  {
   "cell_type": "code",
   "execution_count": 13,
   "metadata": {
    "collapsed": false
   },
   "outputs": [
    {
     "data": {
      "text/html": [
       "<table>\n",
       "<thead><tr><th></th><th scope=col>ME</th><th scope=col>RMSE</th><th scope=col>MAE</th><th scope=col>MPE</th><th scope=col>MAPE</th><th scope=col>ACF1</th><th scope=col>Theil's U</th></tr></thead>\n",
       "<tbody>\n",
       "\t<tr><th scope=row>Test set</th><td>-7.209426 </td><td>15.99292  </td><td>13.13937  </td><td>-7.138851 </td><td>10.51354  </td><td>-0.3411341</td><td>0.4136533 </td></tr>\n",
       "</tbody>\n",
       "</table>\n"
      ],
      "text/latex": [
       "\\begin{tabular}{r|lllllll}\n",
       "  & ME & RMSE & MAE & MPE & MAPE & ACF1 & Theil's U\\\\\n",
       "\\hline\n",
       "\tTest set & -7.209426  & 15.99292   & 13.13937   & -7.138851  & 10.51354   & -0.3411341 & 0.4136533 \\\\\n",
       "\\end{tabular}\n"
      ],
      "text/markdown": [
       "\n",
       "| <!--/--> | ME | RMSE | MAE | MPE | MAPE | ACF1 | Theil's U | \n",
       "|---|\n",
       "| Test set | -7.209426  | 15.99292   | 13.13937   | -7.138851  | 10.51354   | -0.3411341 | 0.4136533  | \n",
       "\n",
       "\n"
      ],
      "text/plain": [
       "         ME        RMSE     MAE      MPE       MAPE     ACF1       Theil's U\n",
       "Test set -7.209426 15.99292 13.13937 -7.138851 10.51354 -0.3411341 0.4136533"
      ]
     },
     "metadata": {},
     "output_type": "display_data"
    }
   ],
   "source": [
    "accuracy(as.vector(oracle.convex$prediction), acc.test) # 13.1..."
   ]
  },
  {
   "cell_type": "code",
   "execution_count": 14,
   "metadata": {
    "collapsed": false
   },
   "outputs": [
    {
     "data": {},
     "metadata": {},
     "output_type": "display_data"
    },
    {
     "data": {
      "image/png": "[encoded data removed]",
      "text/plain": [
       "plot without title"
      ]
     },
     "metadata": {},
     "output_type": "display_data"
    }
   ],
   "source": [
    "combine(as.vector(oracle.convex$prediction), acc.test)"
   ]
  },
  {
   "cell_type": "code",
   "execution_count": 15,
   "metadata": {
    "collapsed": false
   },
   "outputs": [
    {
     "name": "stderr",
     "output_type": "stream",
     "text": [
      "Warning message in bestLinear(Y, experts, lambda = lambda, loss.type = loss.type):\n",
      "\"The best linear oracle is only approximated (using optim).\""
     ]
    },
    {
     "data": {
      "image/png": "[encoded data removed]",
      "text/plain": [
       "Plot with title \"Average loss suffered by the experts\""
      ]
     },
     "metadata": {},
     "output_type": "display_data"
    }
   ],
   "source": [
    "oracle.linear <- oracle(Y = acc.test, experts = X, loss.type = \"absolute\", model = \"linear\")\n",
    "plot(oracle.linear)"
   ]
  },
  {
   "cell_type": "code",
   "execution_count": 16,
   "metadata": {
    "collapsed": false
   },
   "outputs": [
    {
     "name": "stdout",
     "output_type": "stream",
     "text": [
      "Call:\n",
      "oracle.default(Y = acc.test, experts = X, model = \"linear\", loss.type = \"absolute\")\n",
      "\n",
      "Coefficients:\n",
      "  red sarima     hw\n",
      " 1.09 0.0113 -0.144\n",
      "\n",
      "                      rmse   mape\n",
      "Best expert oracle:   14.8 0.1020\n",
      "Uniform combination:  16.2 0.1090\n",
      "Best linear oracle:   14.4 0.0874\n"
     ]
    }
   ],
   "source": [
    "print(oracle.linear)"
   ]
  },
  {
   "cell_type": "code",
   "execution_count": 17,
   "metadata": {
    "collapsed": false
   },
   "outputs": [
    {
     "data": {
      "text/html": [
       "<table>\n",
       "<thead><tr><th></th><th scope=col>ME</th><th scope=col>RMSE</th><th scope=col>MAE</th><th scope=col>MPE</th><th scope=col>MAPE</th><th scope=col>ACF1</th><th scope=col>Theil's U</th></tr></thead>\n",
       "<tbody>\n",
       "\t<tr><th scope=row>Test set</th><td>1.854068  </td><td>14.35385  </td><td>12.27382  </td><td>-0.3200637</td><td>8.738742  </td><td>-0.3355286</td><td>0.4469252 </td></tr>\n",
       "</tbody>\n",
       "</table>\n"
      ],
      "text/latex": [
       "\\begin{tabular}{r|lllllll}\n",
       "  & ME & RMSE & MAE & MPE & MAPE & ACF1 & Theil's U\\\\\n",
       "\\hline\n",
       "\tTest set & 1.854068   & 14.35385   & 12.27382   & -0.3200637 & 8.738742   & -0.3355286 & 0.4469252 \\\\\n",
       "\\end{tabular}\n"
      ],
      "text/markdown": [
       "\n",
       "| <!--/--> | ME | RMSE | MAE | MPE | MAPE | ACF1 | Theil's U | \n",
       "|---|\n",
       "| Test set | 1.854068   | 14.35385   | 12.27382   | -0.3200637 | 8.738742   | -0.3355286 | 0.4469252  | \n",
       "\n",
       "\n"
      ],
      "text/plain": [
       "         ME       RMSE     MAE      MPE        MAPE     ACF1       Theil's U\n",
       "Test set 1.854068 14.35385 12.27382 -0.3200637 8.738742 -0.3355286 0.4469252"
      ]
     },
     "metadata": {},
     "output_type": "display_data"
    }
   ],
   "source": [
    "accuracy(as.vector(oracle.linear$prediction), acc.test) # 12.2..."
   ]
  },
  {
   "cell_type": "code",
   "execution_count": 18,
   "metadata": {
    "collapsed": false
   },
   "outputs": [
    {
     "data": {},
     "metadata": {},
     "output_type": "display_data"
    },
    {
     "data": {
      "image/png": "[encoded data removed]",
      "text/plain": [
       "plot without title"
      ]
     },
     "metadata": {},
     "output_type": "display_data"
    }
   ],
   "source": [
    "combine(as.vector(oracle.linear$prediction), acc.test)"
   ]
  },
  {
   "cell_type": "markdown",
   "metadata": {},
   "source": [
    "#### Predicciones en línea"
   ]
  },
  {
   "cell_type": "code",
   "execution_count": 19,
   "metadata": {
    "collapsed": false
   },
   "outputs": [
    {
     "name": "stdout",
     "output_type": "stream",
     "text": [
      "Aggregation rule: EWA \n",
      "Loss function:  absolute loss \n",
      "Gradient trick:  TRUE \n",
      "Coefficients: \n",
      " red   sarima       hw\n",
      "   1 1.31e-05 4.22e-11\n"
     ]
    }
   ],
   "source": [
    "mix <- mixture(model = 'EWA', loss.type = 'absolute', coefficients = 'Uniform')\n",
    "model <- mix\n",
    "\n",
    "for (i in 1:length(as.vector(acc.test))) {\n",
    "  model <- predict(model, X[i,], as.vector(acc.test)[i])\n",
    "}\n",
    "print(model)"
   ]
  },
  {
   "cell_type": "code",
   "execution_count": 20,
   "metadata": {
    "collapsed": false
   },
   "outputs": [
    {
     "data": {
      "text/html": [
       "<table>\n",
       "<thead><tr><th scope=col>red</th><th scope=col>sarima</th><th scope=col>hw</th></tr></thead>\n",
       "<tbody>\n",
       "\t<tr><td>0.3333333   </td><td>3.333333e-01</td><td>0.3333333   </td></tr>\n",
       "\t<tr><td>0.6054951   </td><td>7.526204e-10</td><td>0.3945049   </td></tr>\n",
       "\t<tr><td>0.4559459   </td><td>3.810984e-02</td><td>0.5059443   </td></tr>\n",
       "\t<tr><td>0.3249113   </td><td>3.168107e-01</td><td>0.3582780   </td></tr>\n",
       "\t<tr><td>0.3325530   </td><td>3.319768e-01</td><td>0.3354702   </td></tr>\n",
       "\t<tr><td>0.3333665   </td><td>3.327078e-01</td><td>0.3339257   </td></tr>\n",
       "\t<tr><td>0.3333238   </td><td>3.332839e-01</td><td>0.3333922   </td></tr>\n",
       "\t<tr><td>0.3333339   </td><td>3.333243e-01</td><td>0.3333419   </td></tr>\n",
       "\t<tr><td>0.3333317   </td><td>3.333336e-01</td><td>0.3333347   </td></tr>\n",
       "\t<tr><td>0.3333331   </td><td>3.333335e-01</td><td>0.3333334   </td></tr>\n",
       "\t<tr><td>0.3333333   </td><td>3.333334e-01</td><td>0.3333333   </td></tr>\n",
       "\t<tr><td>0.3333333   </td><td>3.333333e-01</td><td>0.3333333   </td></tr>\n",
       "</tbody>\n",
       "</table>\n"
      ],
      "text/latex": [
       "\\begin{tabular}{lll}\n",
       " red & sarima & hw\\\\\n",
       "\\hline\n",
       "\t 0.3333333    & 3.333333e-01 & 0.3333333   \\\\\n",
       "\t 0.6054951    & 7.526204e-10 & 0.3945049   \\\\\n",
       "\t 0.4559459    & 3.810984e-02 & 0.5059443   \\\\\n",
       "\t 0.3249113    & 3.168107e-01 & 0.3582780   \\\\\n",
       "\t 0.3325530    & 3.319768e-01 & 0.3354702   \\\\\n",
       "\t 0.3333665    & 3.327078e-01 & 0.3339257   \\\\\n",
       "\t 0.3333238    & 3.332839e-01 & 0.3333922   \\\\\n",
       "\t 0.3333339    & 3.333243e-01 & 0.3333419   \\\\\n",
       "\t 0.3333317    & 3.333336e-01 & 0.3333347   \\\\\n",
       "\t 0.3333331    & 3.333335e-01 & 0.3333334   \\\\\n",
       "\t 0.3333333    & 3.333334e-01 & 0.3333333   \\\\\n",
       "\t 0.3333333    & 3.333333e-01 & 0.3333333   \\\\\n",
       "\\end{tabular}\n"
      ],
      "text/markdown": [
       "\n",
       "red | sarima | hw | \n",
       "|---|---|---|---|---|---|---|---|---|---|---|---|\n",
       "| 0.3333333    | 3.333333e-01 | 0.3333333    | \n",
       "| 0.6054951    | 7.526204e-10 | 0.3945049    | \n",
       "| 0.4559459    | 3.810984e-02 | 0.5059443    | \n",
       "| 0.3249113    | 3.168107e-01 | 0.3582780    | \n",
       "| 0.3325530    | 3.319768e-01 | 0.3354702    | \n",
       "| 0.3333665    | 3.327078e-01 | 0.3339257    | \n",
       "| 0.3333238    | 3.332839e-01 | 0.3333922    | \n",
       "| 0.3333339    | 3.333243e-01 | 0.3333419    | \n",
       "| 0.3333317    | 3.333336e-01 | 0.3333347    | \n",
       "| 0.3333331    | 3.333335e-01 | 0.3333334    | \n",
       "| 0.3333333    | 3.333334e-01 | 0.3333333    | \n",
       "| 0.3333333    | 3.333333e-01 | 0.3333333    | \n",
       "\n",
       "\n"
      ],
      "text/plain": [
       "      red       sarima       hw       \n",
       " [1,] 0.3333333 3.333333e-01 0.3333333\n",
       " [2,] 0.6054951 7.526204e-10 0.3945049\n",
       " [3,] 0.4559459 3.810984e-02 0.5059443\n",
       " [4,] 0.3249113 3.168107e-01 0.3582780\n",
       " [5,] 0.3325530 3.319768e-01 0.3354702\n",
       " [6,] 0.3333665 3.327078e-01 0.3339257\n",
       " [7,] 0.3333238 3.332839e-01 0.3333922\n",
       " [8,] 0.3333339 3.333243e-01 0.3333419\n",
       " [9,] 0.3333317 3.333336e-01 0.3333347\n",
       "[10,] 0.3333331 3.333335e-01 0.3333334\n",
       "[11,] 0.3333333 3.333334e-01 0.3333333\n",
       "[12,] 0.3333333 3.333333e-01 0.3333333"
      ]
     },
     "metadata": {},
     "output_type": "display_data"
    }
   ],
   "source": [
    "model$weights"
   ]
  },
  {
   "cell_type": "code",
   "execution_count": 21,
   "metadata": {
    "collapsed": false
   },
   "outputs": [
    {
     "data": {
      "text/html": [
       "<table>\n",
       "<thead><tr><th></th><th scope=col>ME</th><th scope=col>RMSE</th><th scope=col>MAE</th><th scope=col>MPE</th><th scope=col>MAPE</th><th scope=col>ACF1</th><th scope=col>Theil's U</th></tr></thead>\n",
       "<tbody>\n",
       "\t<tr><th scope=row>Test set</th><td>-8.660421 </td><td>16.3776   </td><td>14.08136  </td><td>-7.812354 </td><td>11.18899  </td><td>-0.4796992</td><td>0.4517813 </td></tr>\n",
       "</tbody>\n",
       "</table>\n"
      ],
      "text/latex": [
       "\\begin{tabular}{r|lllllll}\n",
       "  & ME & RMSE & MAE & MPE & MAPE & ACF1 & Theil's U\\\\\n",
       "\\hline\n",
       "\tTest set & -8.660421  & 16.3776    & 14.08136   & -7.812354  & 11.18899   & -0.4796992 & 0.4517813 \\\\\n",
       "\\end{tabular}\n"
      ],
      "text/markdown": [
       "\n",
       "| <!--/--> | ME | RMSE | MAE | MPE | MAPE | ACF1 | Theil's U | \n",
       "|---|\n",
       "| Test set | -8.660421  | 16.3776    | 14.08136   | -7.812354  | 11.18899   | -0.4796992 | 0.4517813  | \n",
       "\n",
       "\n"
      ],
      "text/plain": [
       "         ME        RMSE    MAE      MPE       MAPE     ACF1       Theil's U\n",
       "Test set -8.660421 16.3776 14.08136 -7.812354 11.18899 -0.4796992 0.4517813"
      ]
     },
     "metadata": {},
     "output_type": "display_data"
    }
   ],
   "source": [
    "accuracy(as.vector(model$prediction), acc.test) # 14.08114"
   ]
  },
  {
   "cell_type": "code",
   "execution_count": 22,
   "metadata": {
    "collapsed": false
   },
   "outputs": [
    {
     "data": {},
     "metadata": {},
     "output_type": "display_data"
    },
    {
     "data": {
      "image/png": "[encoded data removed]",
      "text/plain": [
       "plot without title"
      ]
     },
     "metadata": {},
     "output_type": "display_data"
    }
   ],
   "source": [
    "combine(as.vector(model$prediction), acc.test)"
   ]
  },
  {
   "cell_type": "code",
   "execution_count": 23,
   "metadata": {
    "collapsed": false
   },
   "outputs": [
    {
     "data": {
      "image/png": "[encoded data removed]",
      "text/plain": [
       "Plot with title \"Weights associated with the experts\""
      ]
     },
     "metadata": {},
     "output_type": "display_data"
    },
    {
     "data": {
      "image/png": "[encoded data removed]",
      "text/plain": [
       "Plot with title \"Weights associated with the experts\""
      ]
     },
     "metadata": {},
     "output_type": "display_data"
    },
    {
     "data": {
      "image/png": "[encoded data removed]",
      "text/plain": [
       "Plot with title \"Cumulative absolute loss\""
      ]
     },
     "metadata": {},
     "output_type": "display_data"
    },
    {
     "data": {
      "image/png": "[encoded data removed]",
      "text/plain": [
       "Plot with title \"Cumulative residuals\""
      ]
     },
     "metadata": {},
     "output_type": "display_data"
    },
    {
     "data": {
      "image/png": "[encoded data removed]",
      "text/plain": [
       "Plot with title \"Average loss suffered by the experts\""
      ]
     },
     "metadata": {},
     "output_type": "display_data"
    },
    {
     "data": {
      "image/png": "[encoded data removed]",
      "text/plain": [
       "Plot with title \"Contribution of each expert to prediction\""
      ]
     },
     "metadata": {},
     "output_type": "display_data"
    }
   ],
   "source": [
    "plot(model, pause = TRUE)"
   ]
  }
 ],
 "metadata": {
  "kernelspec": {
   "display_name": "R",
   "language": "R",
   "name": "ir"
  },
  "language_info": {
   "codemirror_mode": "r",
   "file_extension": ".r",
   "mimetype": "text/x-r-source",
   "name": "R",
   "pygments_lexer": "r",
   "version": "3.3.2"
  }
 },
 "nbformat": 4,
 "nbformat_minor": 2
}
