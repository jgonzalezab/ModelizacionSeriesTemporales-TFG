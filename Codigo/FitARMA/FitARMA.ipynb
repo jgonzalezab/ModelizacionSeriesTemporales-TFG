{
 "cells": [
  {
   "cell_type": "markdown",
   "metadata": {},
   "source": [
    "# FitARMA Package"
   ]
  },
  {
   "cell_type": "markdown",
   "metadata": {},
   "source": [
    "#### Cargamos las librerias auxiliares"
   ]
  },
  {
   "cell_type": "code",
   "execution_count": 22,
   "metadata": {
    "collapsed": true
   },
   "outputs": [
    {
     "name": "stderr",
     "output_type": "stream",
     "text": [
      "Warning message:\n",
      "\"package 'tseries' was built under R version 3.3.3\""
     ]
    }
   ],
   "source": [
    "library(ggplot2)\n",
    "library(zoo)\n",
    "library(forecast)\n",
    "library(tseries)"
   ]
  },
  {
   "cell_type": "markdown",
   "metadata": {},
   "source": [
    "#### Cargamos la librería FitARMA"
   ]
  },
  {
   "cell_type": "code",
   "execution_count": 2,
   "metadata": {
    "collapsed": true
   },
   "outputs": [
    {
     "name": "stderr",
     "output_type": "stream",
     "text": [
      "Warning message:\n",
      "\"package 'FitARMA' was built under R version 3.3.3\"Loading required package: FitAR\n",
      "Warning message:\n",
      "\"package 'FitAR' was built under R version 3.3.3\"Loading required package: lattice\n",
      "Warning message:\n",
      "\"package 'lattice' was built under R version 3.3.3\"Loading required package: leaps\n",
      "Warning message:\n",
      "\"package 'leaps' was built under R version 3.3.3\"Loading required package: ltsa\n",
      "Loading required package: bestglm\n",
      "Warning message:\n",
      "\"package 'bestglm' was built under R version 3.3.3\"\n",
      "Attaching package: 'FitAR'\n",
      "\n",
      "The following object is masked from 'package:forecast':\n",
      "\n",
      "    BoxCox\n",
      "\n"
     ]
    }
   ],
   "source": [
    "#install.packages('FitARMA')\n",
    "library(FitARMA)"
   ]
  },
  {
   "cell_type": "markdown",
   "metadata": {},
   "source": [
    "#### Cargamos los datos"
   ]
  },
  {
   "cell_type": "code",
   "execution_count": 3,
   "metadata": {
    "collapsed": true
   },
   "outputs": [],
   "source": [
    "datos <- read.csv('monthly-traffic-fatalities-in-on.csv')\n",
    "accidentes <- ts(datos, start = c(1960, 1), frequency = 12)"
   ]
  },
  {
   "cell_type": "markdown",
   "metadata": {},
   "source": [
    "#### Función genérica para plotting de test vs pred a través de ggplot2"
   ]
  },
  {
   "cell_type": "code",
   "execution_count": 4,
   "metadata": {
    "collapsed": true
   },
   "outputs": [],
   "source": [
    "combine <- function(test, pred) {\n",
    "  require(ggplot2)\n",
    "  p <- ggplot() +\n",
    "    geom_line(aes(x = index(as.zoo(test)), y = coredata(as.zoo(test)), colour = 'Test')) +\n",
    "    geom_line(aes(x = index(as.zoo(test)), y = pred, colour = 'Prediccion')) +\n",
    "    scale_color_manual(name = '', values = c('Test' = 'black', 'Prediccion' = 'red'),\n",
    "                       labels = c('Test','Predicción'))\n",
    "  p\n",
    "}"
   ]
  },
  {
   "cell_type": "markdown",
   "metadata": {},
   "source": [
    "#### Ajustamos estacionalmente la serie y volvemos a dividir en dos conjuntos"
   ]
  },
  {
   "cell_type": "code",
   "execution_count": 5,
   "metadata": {
    "collapsed": true
   },
   "outputs": [],
   "source": [
    "decomposition <- decompose(accidentes, type = 'additive')\n",
    "accidentes.adj <- seasadj(decomposition) # Forecast\n",
    "acc.train.adj <- window(accidentes.adj, start = c(1960,1), end = c(1973,12))\n",
    "acc.test.adj <- window(accidentes.adj, start = c(1974,1))"
   ]
  },
  {
   "cell_type": "markdown",
   "metadata": {},
   "source": [
    "#### Diferenciamos"
   ]
  },
  {
   "cell_type": "code",
   "execution_count": 6,
   "metadata": {
    "collapsed": true
   },
   "outputs": [],
   "source": [
    "accidentes.dif.adj <- diff(accidentes.adj) \n",
    "acc.train.dif.adj <- window(accidentes.dif.adj, start = c(1960,2), end = c(1973,12)) # Perdemos una observación\n",
    "acc.test.dif.adj <- window(accidentes.dif.adj, start = c(1974,1))"
   ]
  },
  {
   "cell_type": "markdown",
   "metadata": {},
   "source": [
    "#### ACF y PACF"
   ]
  },
  {
   "cell_type": "code",
   "execution_count": 8,
   "metadata": {
    "collapsed": false
   },
   "outputs": [
    {
     "data": {
      "image/png": "[encoded data removed]",
      "text/plain": [
       "Plot with title \"object$x\""
      ]
     },
     "metadata": {},
     "output_type": "display_data"
    }
   ],
   "source": [
    "Acf(acc.train.dif.adj)"
   ]
  },
  {
   "cell_type": "code",
   "execution_count": 9,
   "metadata": {
    "collapsed": false
   },
   "outputs": [
    {
     "data": {
      "image/png": "[encoded data removed]",
      "text/plain": [
       "Plot with title \"Series  acc.train.dif.adj\""
      ]
     },
     "metadata": {},
     "output_type": "display_data"
    }
   ],
   "source": [
    "Pacf(acc.train.dif.adj)"
   ]
  },
  {
   "cell_type": "markdown",
   "metadata": {},
   "source": [
    "#### ARMA(2,1) (FitARMA)"
   ]
  },
  {
   "cell_type": "code",
   "execution_count": 10,
   "metadata": {
    "collapsed": false
   },
   "outputs": [
    {
     "name": "stdout",
     "output_type": "stream",
     "text": [
      "ARIMA(2,0,1)\n",
      "length of series = 167 ,  number of parameters = 4\n",
      "loglikelihood = -465.75 ,  aic = 939.5 ,  bic =  952\n"
     ]
    }
   ],
   "source": [
    "model.1 <- FitARMA(acc.train.dif.adj, order = c(2,0,1))\n",
    "summary(model.1) # AIC = 939.5  Loglikelihood = -465.75"
   ]
  },
  {
   "cell_type": "code",
   "execution_count": 11,
   "metadata": {
    "collapsed": false
   },
   "outputs": [
    {
     "data": {
      "text/html": [
       "<table>\n",
       "<thead><tr><th></th><th scope=col>MLE</th><th scope=col>sd</th><th scope=col>Z-ratio</th></tr></thead>\n",
       "<tbody>\n",
       "\t<tr><th scope=row>phi(1)</th><td>0.2259977 </td><td>0.08360269</td><td> 2.703235 </td></tr>\n",
       "\t<tr><th scope=row>phi(2)</th><td>0.1443701 </td><td>0.08246120</td><td> 1.750764 </td></tr>\n",
       "\t<tr><th scope=row>theta(1)</th><td>0.9477932 </td><td>0.02999630</td><td>31.597007 </td></tr>\n",
       "\t<tr><th scope=row>mu</th><td>0.2586612 </td><td>7.97254543</td><td> 0.032444 </td></tr>\n",
       "</tbody>\n",
       "</table>\n"
      ],
      "text/latex": [
       "\\begin{tabular}{r|lll}\n",
       "  & MLE & sd & Z-ratio\\\\\n",
       "\\hline\n",
       "\tphi(1) & 0.2259977  & 0.08360269 &  2.703235 \\\\\n",
       "\tphi(2) & 0.1443701  & 0.08246120 &  1.750764 \\\\\n",
       "\ttheta(1) & 0.9477932  & 0.02999630 & 31.597007 \\\\\n",
       "\tmu & 0.2586612  & 7.97254543 &  0.032444 \\\\\n",
       "\\end{tabular}\n"
      ],
      "text/markdown": [
       "\n",
       "| <!--/--> | MLE | sd | Z-ratio | \n",
       "|---|---|---|---|\n",
       "| phi(1) | 0.2259977  | 0.08360269 |  2.703235  | \n",
       "| phi(2) | 0.1443701  | 0.08246120 |  1.750764  | \n",
       "| theta(1) | 0.9477932  | 0.02999630 | 31.597007  | \n",
       "| mu | 0.2586612  | 7.97254543 |  0.032444  | \n",
       "\n",
       "\n"
      ],
      "text/plain": [
       "         MLE       sd         Z-ratio  \n",
       "phi(1)   0.2259977 0.08360269  2.703235\n",
       "phi(2)   0.1443701 0.08246120  1.750764\n",
       "theta(1) 0.9477932 0.02999630 31.597007\n",
       "mu       0.2586612 7.97254543  0.032444"
      ]
     },
     "metadata": {},
     "output_type": "display_data"
    }
   ],
   "source": [
    "coef(model.1)"
   ]
  },
  {
   "cell_type": "code",
   "execution_count": 12,
   "metadata": {
    "collapsed": false
   },
   "outputs": [
    {
     "data": {
      "text/html": [
       "<ol class=list-inline>\n",
       "\t<li>-0.00468702086689897</li>\n",
       "\t<li>0.0153844836286992</li>\n",
       "\t<li>-0.00908538661433114</li>\n",
       "\t<li>-0.116608429201057</li>\n",
       "\t<li>0.017959928956187</li>\n",
       "\t<li>-0.0420811069667218</li>\n",
       "\t<li>-0.111886836829932</li>\n",
       "\t<li>-0.0271602545041102</li>\n",
       "\t<li>0.116982750128432</li>\n",
       "\t<li>0.0974789546307441</li>\n",
       "\t<li>0.101706925835929</li>\n",
       "\t<li>0.0455080185125616</li>\n",
       "\t<li>-0.0632428815781976</li>\n",
       "\t<li>0.0397177731072495</li>\n",
       "\t<li>-0.0394089162340816</li>\n",
       "\t<li>-0.0136673595625757</li>\n",
       "\t<li>-0.118419537381104</li>\n",
       "\t<li>-0.0710895559967884</li>\n",
       "\t<li>-0.101970255153682</li>\n",
       "\t<li>0.12027396106468</li>\n",
       "\t<li>0.031028359640903</li>\n",
       "\t<li>-0.0627355673538175</li>\n",
       "\t<li>0.12175148458753</li>\n",
       "\t<li>-0.0765198624969517</li>\n",
       "\t<li>0.0366637552743895</li>\n",
       "\t<li>0.0345527687793948</li>\n",
       "\t<li>-0.115203305812537</li>\n",
       "\t<li>0.0153454567318847</li>\n",
       "\t<li>-0.0433369427821351</li>\n",
       "\t<li>-0.0178203730768877</li>\n",
       "</ol>\n"
      ],
      "text/latex": [
       "\\begin{enumerate*}\n",
       "\\item -0.00468702086689897\n",
       "\\item 0.0153844836286992\n",
       "\\item -0.00908538661433114\n",
       "\\item -0.116608429201057\n",
       "\\item 0.017959928956187\n",
       "\\item -0.0420811069667218\n",
       "\\item -0.111886836829932\n",
       "\\item -0.0271602545041102\n",
       "\\item 0.116982750128432\n",
       "\\item 0.0974789546307441\n",
       "\\item 0.101706925835929\n",
       "\\item 0.0455080185125616\n",
       "\\item -0.0632428815781976\n",
       "\\item 0.0397177731072495\n",
       "\\item -0.0394089162340816\n",
       "\\item -0.0136673595625757\n",
       "\\item -0.118419537381104\n",
       "\\item -0.0710895559967884\n",
       "\\item -0.101970255153682\n",
       "\\item 0.12027396106468\n",
       "\\item 0.031028359640903\n",
       "\\item -0.0627355673538175\n",
       "\\item 0.12175148458753\n",
       "\\item -0.0765198624969517\n",
       "\\item 0.0366637552743895\n",
       "\\item 0.0345527687793948\n",
       "\\item -0.115203305812537\n",
       "\\item 0.0153454567318847\n",
       "\\item -0.0433369427821351\n",
       "\\item -0.0178203730768877\n",
       "\\end{enumerate*}\n"
      ],
      "text/markdown": [
       "1. -0.00468702086689897\n",
       "2. 0.0153844836286992\n",
       "3. -0.00908538661433114\n",
       "4. -0.116608429201057\n",
       "5. 0.017959928956187\n",
       "6. -0.0420811069667218\n",
       "7. -0.111886836829932\n",
       "8. -0.0271602545041102\n",
       "9. 0.116982750128432\n",
       "10. 0.0974789546307441\n",
       "11. 0.101706925835929\n",
       "12. 0.0455080185125616\n",
       "13. -0.0632428815781976\n",
       "14. 0.0397177731072495\n",
       "15. -0.0394089162340816\n",
       "16. -0.0136673595625757\n",
       "17. -0.118419537381104\n",
       "18. -0.0710895559967884\n",
       "19. -0.101970255153682\n",
       "20. 0.12027396106468\n",
       "21. 0.031028359640903\n",
       "22. -0.0627355673538175\n",
       "23. 0.12175148458753\n",
       "24. -0.0765198624969517\n",
       "25. 0.0366637552743895\n",
       "26. 0.0345527687793948\n",
       "27. -0.115203305812537\n",
       "28. 0.0153454567318847\n",
       "29. -0.0433369427821351\n",
       "30. -0.0178203730768877\n",
       "\n",
       "\n"
      ],
      "text/plain": [
       " [1] -0.004687021  0.015384484 -0.009085387 -0.116608429  0.017959929\n",
       " [6] -0.042081107 -0.111886837 -0.027160255  0.116982750  0.097478955\n",
       "[11]  0.101706926  0.045508019 -0.063242882  0.039717773 -0.039408916\n",
       "[16] -0.013667360 -0.118419537 -0.071089556 -0.101970255  0.120273961\n",
       "[21]  0.031028360 -0.062735567  0.121751485 -0.076519862  0.036663755\n",
       "[26]  0.034552769 -0.115203306  0.015345457 -0.043336943 -0.017820373"
      ]
     },
     "metadata": {},
     "output_type": "display_data"
    }
   ],
   "source": [
    "model.1$racf"
   ]
  },
  {
   "cell_type": "code",
   "execution_count": 13,
   "metadata": {
    "collapsed": false
   },
   "outputs": [
    {
     "data": {
      "image/png": "[encoded data removed]",
      "text/plain": [
       "Plot with title \"Series  residuals(model.1)\""
      ]
     },
     "metadata": {},
     "output_type": "display_data"
    }
   ],
   "source": [
    "Acf(residuals(model.1))"
   ]
  },
  {
   "cell_type": "code",
   "execution_count": 14,
   "metadata": {
    "collapsed": false
   },
   "outputs": [
    {
     "data": {
      "text/html": [
       "<table>\n",
       "<thead><tr><th></th><th scope=col>m</th><th scope=col>Qm</th><th scope=col>pvalue</th></tr></thead>\n",
       "<tbody>\n",
       "\t<tr><th scope=row></th><td> 1       </td><td> 0.00    </td><td>0.9512680</td></tr>\n",
       "\t<tr><th scope=row></th><td> 2       </td><td> 0.04    </td><td>0.8334464</td></tr>\n",
       "\t<tr><th scope=row></th><td> 3       </td><td> 0.06    </td><td>0.8090040</td></tr>\n",
       "\t<tr><th scope=row></th><td> 4       </td><td> 2.41    </td><td>0.1203471</td></tr>\n",
       "\t<tr><th scope=row></th><td> 5       </td><td> 2.47    </td><td>0.2909812</td></tr>\n",
       "\t<tr><th scope=row></th><td> 6       </td><td> 2.78    </td><td>0.4268998</td></tr>\n",
       "\t<tr><th scope=row></th><td> 7       </td><td> 4.99    </td><td>0.2885692</td></tr>\n",
       "\t<tr><th scope=row></th><td> 8       </td><td> 5.12    </td><td>0.4015820</td></tr>\n",
       "\t<tr><th scope=row></th><td> 9       </td><td> 7.56    </td><td>0.2718923</td></tr>\n",
       "\t<tr><th scope=row></th><td>10       </td><td> 9.27    </td><td>0.2337661</td></tr>\n",
       "\t<tr><th scope=row></th><td>11       </td><td>11.14    </td><td>0.1937456</td></tr>\n",
       "\t<tr><th scope=row></th><td>12       </td><td>11.52    </td><td>0.2417556</td></tr>\n",
       "\t<tr><th scope=row></th><td>13       </td><td>12.25    </td><td>0.2684960</td></tr>\n",
       "\t<tr><th scope=row></th><td>14       </td><td>12.54    </td><td>0.3241871</td></tr>\n",
       "\t<tr><th scope=row></th><td>15       </td><td>12.83    </td><td>0.3813596</td></tr>\n",
       "\t<tr><th scope=row></th><td>16       </td><td>12.87    </td><td>0.4581336</td></tr>\n",
       "\t<tr><th scope=row></th><td>17       </td><td>15.51    </td><td>0.3444919</td></tr>\n",
       "\t<tr><th scope=row></th><td>18       </td><td>16.46    </td><td>0.3519774</td></tr>\n",
       "\t<tr><th scope=row></th><td>19       </td><td>18.45    </td><td>0.2984539</td></tr>\n",
       "\t<tr><th scope=row></th><td>20       </td><td>21.22    </td><td>0.2164744</td></tr>\n",
       "\t<tr><th scope=row></th><td>21       </td><td>21.41    </td><td>0.2592780</td></tr>\n",
       "\t<tr><th scope=row></th><td>22       </td><td>22.18    </td><td>0.2756257</td></tr>\n",
       "\t<tr><th scope=row></th><td>23       </td><td>25.08    </td><td>0.1983707</td></tr>\n",
       "\t<tr><th scope=row></th><td>24       </td><td>26.24    </td><td>0.1975904</td></tr>\n",
       "\t<tr><th scope=row></th><td>25       </td><td>26.50    </td><td>0.2307035</td></tr>\n",
       "\t<tr><th scope=row></th><td>26       </td><td>26.74    </td><td>0.2670951</td></tr>\n",
       "\t<tr><th scope=row></th><td>27       </td><td>29.42    </td><td>0.2048056</td></tr>\n",
       "\t<tr><th scope=row></th><td>28       </td><td>29.47    </td><td>0.2449259</td></tr>\n",
       "\t<tr><th scope=row></th><td>29       </td><td>29.85    </td><td>0.2738878</td></tr>\n",
       "\t<tr><th scope=row></th><td>30       </td><td>29.92    </td><td>0.3179846</td></tr>\n",
       "</tbody>\n",
       "</table>\n"
      ],
      "text/latex": [
       "\\begin{tabular}{r|lll}\n",
       "  & m & Qm & pvalue\\\\\n",
       "\\hline\n",
       "\t &  1        &  0.00     & 0.9512680\\\\\n",
       "\t &  2        &  0.04     & 0.8334464\\\\\n",
       "\t &  3        &  0.06     & 0.8090040\\\\\n",
       "\t &  4        &  2.41     & 0.1203471\\\\\n",
       "\t &  5        &  2.47     & 0.2909812\\\\\n",
       "\t &  6        &  2.78     & 0.4268998\\\\\n",
       "\t &  7        &  4.99     & 0.2885692\\\\\n",
       "\t &  8        &  5.12     & 0.4015820\\\\\n",
       "\t &  9        &  7.56     & 0.2718923\\\\\n",
       "\t & 10        &  9.27     & 0.2337661\\\\\n",
       "\t & 11        & 11.14     & 0.1937456\\\\\n",
       "\t & 12        & 11.52     & 0.2417556\\\\\n",
       "\t & 13        & 12.25     & 0.2684960\\\\\n",
       "\t & 14        & 12.54     & 0.3241871\\\\\n",
       "\t & 15        & 12.83     & 0.3813596\\\\\n",
       "\t & 16        & 12.87     & 0.4581336\\\\\n",
       "\t & 17        & 15.51     & 0.3444919\\\\\n",
       "\t & 18        & 16.46     & 0.3519774\\\\\n",
       "\t & 19        & 18.45     & 0.2984539\\\\\n",
       "\t & 20        & 21.22     & 0.2164744\\\\\n",
       "\t & 21        & 21.41     & 0.2592780\\\\\n",
       "\t & 22        & 22.18     & 0.2756257\\\\\n",
       "\t & 23        & 25.08     & 0.1983707\\\\\n",
       "\t & 24        & 26.24     & 0.1975904\\\\\n",
       "\t & 25        & 26.50     & 0.2307035\\\\\n",
       "\t & 26        & 26.74     & 0.2670951\\\\\n",
       "\t & 27        & 29.42     & 0.2048056\\\\\n",
       "\t & 28        & 29.47     & 0.2449259\\\\\n",
       "\t & 29        & 29.85     & 0.2738878\\\\\n",
       "\t & 30        & 29.92     & 0.3179846\\\\\n",
       "\\end{tabular}\n"
      ],
      "text/markdown": [
       "\n",
       "| <!--/--> | m | Qm | pvalue | \n",
       "|---|---|---|---|---|---|---|---|---|---|---|---|---|---|---|---|---|---|---|---|---|---|---|---|---|---|---|---|---|---|\n",
       "|  |  1        |  0.00     | 0.9512680 | \n",
       "|  |  2        |  0.04     | 0.8334464 | \n",
       "|  |  3        |  0.06     | 0.8090040 | \n",
       "|  |  4        |  2.41     | 0.1203471 | \n",
       "|  |  5        |  2.47     | 0.2909812 | \n",
       "|  |  6        |  2.78     | 0.4268998 | \n",
       "|  |  7        |  4.99     | 0.2885692 | \n",
       "|  |  8        |  5.12     | 0.4015820 | \n",
       "|  |  9        |  7.56     | 0.2718923 | \n",
       "|  | 10        |  9.27     | 0.2337661 | \n",
       "|  | 11        | 11.14     | 0.1937456 | \n",
       "|  | 12        | 11.52     | 0.2417556 | \n",
       "|  | 13        | 12.25     | 0.2684960 | \n",
       "|  | 14        | 12.54     | 0.3241871 | \n",
       "|  | 15        | 12.83     | 0.3813596 | \n",
       "|  | 16        | 12.87     | 0.4581336 | \n",
       "|  | 17        | 15.51     | 0.3444919 | \n",
       "|  | 18        | 16.46     | 0.3519774 | \n",
       "|  | 19        | 18.45     | 0.2984539 | \n",
       "|  | 20        | 21.22     | 0.2164744 | \n",
       "|  | 21        | 21.41     | 0.2592780 | \n",
       "|  | 22        | 22.18     | 0.2756257 | \n",
       "|  | 23        | 25.08     | 0.1983707 | \n",
       "|  | 24        | 26.24     | 0.1975904 | \n",
       "|  | 25        | 26.50     | 0.2307035 | \n",
       "|  | 26        | 26.74     | 0.2670951 | \n",
       "|  | 27        | 29.42     | 0.2048056 | \n",
       "|  | 28        | 29.47     | 0.2449259 | \n",
       "|  | 29        | 29.85     | 0.2738878 | \n",
       "|  | 30        | 29.92     | 0.3179846 | \n",
       "\n",
       "\n"
      ],
      "text/plain": [
       " m  Qm    pvalue   \n",
       "  1  0.00 0.9512680\n",
       "  2  0.04 0.8334464\n",
       "  3  0.06 0.8090040\n",
       "  4  2.41 0.1203471\n",
       "  5  2.47 0.2909812\n",
       "  6  2.78 0.4268998\n",
       "  7  4.99 0.2885692\n",
       "  8  5.12 0.4015820\n",
       "  9  7.56 0.2718923\n",
       " 10  9.27 0.2337661\n",
       " 11 11.14 0.1937456\n",
       " 12 11.52 0.2417556\n",
       " 13 12.25 0.2684960\n",
       " 14 12.54 0.3241871\n",
       " 15 12.83 0.3813596\n",
       " 16 12.87 0.4581336\n",
       " 17 15.51 0.3444919\n",
       " 18 16.46 0.3519774\n",
       " 19 18.45 0.2984539\n",
       " 20 21.22 0.2164744\n",
       " 21 21.41 0.2592780\n",
       " 22 22.18 0.2756257\n",
       " 23 25.08 0.1983707\n",
       " 24 26.24 0.1975904\n",
       " 25 26.50 0.2307035\n",
       " 26 26.74 0.2670951\n",
       " 27 29.42 0.2048056\n",
       " 28 29.47 0.2449259\n",
       " 29 29.85 0.2738878\n",
       " 30 29.92 0.3179846"
      ]
     },
     "metadata": {},
     "output_type": "display_data"
    }
   ],
   "source": [
    "model.1$LjungBoxQ"
   ]
  },
  {
   "cell_type": "markdown",
   "metadata": {},
   "source": [
    "#### ARMA(2,1) (FitARMA) (MeanMLEQ = TRUE)"
   ]
  },
  {
   "cell_type": "code",
   "execution_count": 15,
   "metadata": {
    "collapsed": false
   },
   "outputs": [
    {
     "name": "stdout",
     "output_type": "stream",
     "text": [
      "ARIMA(2,0,1)  With mean MLE.\n",
      "length of series = 167 ,  number of parameters = 4\n",
      "loglikelihood = -465.27 ,  aic = 938.5 ,  bic =  951\n"
     ]
    }
   ],
   "source": [
    "model.2 <- FitARMA(acc.train.dif.adj, order = c(2,0,1), MeanMLEQ =  TRUE)\n",
    "summary(model.2) # AIC = 938.5  Loglikelihood = -465.27"
   ]
  },
  {
   "cell_type": "code",
   "execution_count": 16,
   "metadata": {
    "collapsed": false
   },
   "outputs": [
    {
     "data": {
      "text/html": [
       "<table>\n",
       "<thead><tr><th></th><th scope=col>MLE</th><th scope=col>sd</th><th scope=col>Z-ratio</th></tr></thead>\n",
       "<tbody>\n",
       "\t<tr><th scope=row>phi(1)</th><td>0.2281884  </td><td>0.08176180 </td><td> 2.79089249</td></tr>\n",
       "\t<tr><th scope=row>phi(2)</th><td>0.1438438  </td><td>0.08108491 </td><td> 1.77398937</td></tr>\n",
       "\t<tr><th scope=row>theta(1)</th><td>0.9591174  </td><td>0.02550060 </td><td>37.61156596</td></tr>\n",
       "\t<tr><th scope=row>mu</th><td>0.4039298  </td><td>8.05657940 </td><td> 0.05013664</td></tr>\n",
       "</tbody>\n",
       "</table>\n"
      ],
      "text/latex": [
       "\\begin{tabular}{r|lll}\n",
       "  & MLE & sd & Z-ratio\\\\\n",
       "\\hline\n",
       "\tphi(1) & 0.2281884   & 0.08176180  &  2.79089249\\\\\n",
       "\tphi(2) & 0.1438438   & 0.08108491  &  1.77398937\\\\\n",
       "\ttheta(1) & 0.9591174   & 0.02550060  & 37.61156596\\\\\n",
       "\tmu & 0.4039298   & 8.05657940  &  0.05013664\\\\\n",
       "\\end{tabular}\n"
      ],
      "text/markdown": [
       "\n",
       "| <!--/--> | MLE | sd | Z-ratio | \n",
       "|---|---|---|---|\n",
       "| phi(1) | 0.2281884   | 0.08176180  |  2.79089249 | \n",
       "| phi(2) | 0.1438438   | 0.08108491  |  1.77398937 | \n",
       "| theta(1) | 0.9591174   | 0.02550060  | 37.61156596 | \n",
       "| mu | 0.4039298   | 8.05657940  |  0.05013664 | \n",
       "\n",
       "\n"
      ],
      "text/plain": [
       "         MLE       sd         Z-ratio    \n",
       "phi(1)   0.2281884 0.08176180  2.79089249\n",
       "phi(2)   0.1438438 0.08108491  1.77398937\n",
       "theta(1) 0.9591174 0.02550060 37.61156596\n",
       "mu       0.4039298 8.05657940  0.05013664"
      ]
     },
     "metadata": {},
     "output_type": "display_data"
    }
   ],
   "source": [
    "coef(model.2)"
   ]
  },
  {
   "cell_type": "code",
   "execution_count": 18,
   "metadata": {
    "collapsed": false
   },
   "outputs": [
    {
     "data": {
      "image/png": "[encoded data removed]",
      "text/plain": [
       "Plot with title \"Series  residuals(model.2)\""
      ]
     },
     "metadata": {},
     "output_type": "display_data"
    }
   ],
   "source": [
    "Acf(residuals(model.2))"
   ]
  },
  {
   "cell_type": "code",
   "execution_count": 19,
   "metadata": {
    "collapsed": false
   },
   "outputs": [
    {
     "data": {
      "text/html": [
       "<table>\n",
       "<thead><tr><th></th><th scope=col>m</th><th scope=col>Qm</th><th scope=col>pvalue</th></tr></thead>\n",
       "<tbody>\n",
       "\t<tr><th scope=row></th><td> 1       </td><td> 0.00    </td><td>0.9512680</td></tr>\n",
       "\t<tr><th scope=row></th><td> 2       </td><td> 0.04    </td><td>0.8334464</td></tr>\n",
       "\t<tr><th scope=row></th><td> 3       </td><td> 0.06    </td><td>0.8090040</td></tr>\n",
       "\t<tr><th scope=row></th><td> 4       </td><td> 2.41    </td><td>0.1203471</td></tr>\n",
       "\t<tr><th scope=row></th><td> 5       </td><td> 2.47    </td><td>0.2909812</td></tr>\n",
       "\t<tr><th scope=row></th><td> 6       </td><td> 2.78    </td><td>0.4268998</td></tr>\n",
       "\t<tr><th scope=row></th><td> 7       </td><td> 4.99    </td><td>0.2885692</td></tr>\n",
       "\t<tr><th scope=row></th><td> 8       </td><td> 5.12    </td><td>0.4015820</td></tr>\n",
       "\t<tr><th scope=row></th><td> 9       </td><td> 7.56    </td><td>0.2718923</td></tr>\n",
       "\t<tr><th scope=row></th><td>10       </td><td> 9.27    </td><td>0.2337661</td></tr>\n",
       "\t<tr><th scope=row></th><td>11       </td><td>11.14    </td><td>0.1937456</td></tr>\n",
       "\t<tr><th scope=row></th><td>12       </td><td>11.52    </td><td>0.2417556</td></tr>\n",
       "\t<tr><th scope=row></th><td>13       </td><td>12.25    </td><td>0.2684960</td></tr>\n",
       "\t<tr><th scope=row></th><td>14       </td><td>12.54    </td><td>0.3241871</td></tr>\n",
       "\t<tr><th scope=row></th><td>15       </td><td>12.83    </td><td>0.3813596</td></tr>\n",
       "\t<tr><th scope=row></th><td>16       </td><td>12.87    </td><td>0.4581336</td></tr>\n",
       "\t<tr><th scope=row></th><td>17       </td><td>15.51    </td><td>0.3444919</td></tr>\n",
       "\t<tr><th scope=row></th><td>18       </td><td>16.46    </td><td>0.3519774</td></tr>\n",
       "\t<tr><th scope=row></th><td>19       </td><td>18.45    </td><td>0.2984539</td></tr>\n",
       "\t<tr><th scope=row></th><td>20       </td><td>21.22    </td><td>0.2164744</td></tr>\n",
       "\t<tr><th scope=row></th><td>21       </td><td>21.41    </td><td>0.2592780</td></tr>\n",
       "\t<tr><th scope=row></th><td>22       </td><td>22.18    </td><td>0.2756257</td></tr>\n",
       "\t<tr><th scope=row></th><td>23       </td><td>25.08    </td><td>0.1983707</td></tr>\n",
       "\t<tr><th scope=row></th><td>24       </td><td>26.24    </td><td>0.1975904</td></tr>\n",
       "\t<tr><th scope=row></th><td>25       </td><td>26.50    </td><td>0.2307035</td></tr>\n",
       "\t<tr><th scope=row></th><td>26       </td><td>26.74    </td><td>0.2670951</td></tr>\n",
       "\t<tr><th scope=row></th><td>27       </td><td>29.42    </td><td>0.2048056</td></tr>\n",
       "\t<tr><th scope=row></th><td>28       </td><td>29.47    </td><td>0.2449259</td></tr>\n",
       "\t<tr><th scope=row></th><td>29       </td><td>29.85    </td><td>0.2738878</td></tr>\n",
       "\t<tr><th scope=row></th><td>30       </td><td>29.92    </td><td>0.3179846</td></tr>\n",
       "</tbody>\n",
       "</table>\n"
      ],
      "text/latex": [
       "\\begin{tabular}{r|lll}\n",
       "  & m & Qm & pvalue\\\\\n",
       "\\hline\n",
       "\t &  1        &  0.00     & 0.9512680\\\\\n",
       "\t &  2        &  0.04     & 0.8334464\\\\\n",
       "\t &  3        &  0.06     & 0.8090040\\\\\n",
       "\t &  4        &  2.41     & 0.1203471\\\\\n",
       "\t &  5        &  2.47     & 0.2909812\\\\\n",
       "\t &  6        &  2.78     & 0.4268998\\\\\n",
       "\t &  7        &  4.99     & 0.2885692\\\\\n",
       "\t &  8        &  5.12     & 0.4015820\\\\\n",
       "\t &  9        &  7.56     & 0.2718923\\\\\n",
       "\t & 10        &  9.27     & 0.2337661\\\\\n",
       "\t & 11        & 11.14     & 0.1937456\\\\\n",
       "\t & 12        & 11.52     & 0.2417556\\\\\n",
       "\t & 13        & 12.25     & 0.2684960\\\\\n",
       "\t & 14        & 12.54     & 0.3241871\\\\\n",
       "\t & 15        & 12.83     & 0.3813596\\\\\n",
       "\t & 16        & 12.87     & 0.4581336\\\\\n",
       "\t & 17        & 15.51     & 0.3444919\\\\\n",
       "\t & 18        & 16.46     & 0.3519774\\\\\n",
       "\t & 19        & 18.45     & 0.2984539\\\\\n",
       "\t & 20        & 21.22     & 0.2164744\\\\\n",
       "\t & 21        & 21.41     & 0.2592780\\\\\n",
       "\t & 22        & 22.18     & 0.2756257\\\\\n",
       "\t & 23        & 25.08     & 0.1983707\\\\\n",
       "\t & 24        & 26.24     & 0.1975904\\\\\n",
       "\t & 25        & 26.50     & 0.2307035\\\\\n",
       "\t & 26        & 26.74     & 0.2670951\\\\\n",
       "\t & 27        & 29.42     & 0.2048056\\\\\n",
       "\t & 28        & 29.47     & 0.2449259\\\\\n",
       "\t & 29        & 29.85     & 0.2738878\\\\\n",
       "\t & 30        & 29.92     & 0.3179846\\\\\n",
       "\\end{tabular}\n"
      ],
      "text/markdown": [
       "\n",
       "| <!--/--> | m | Qm | pvalue | \n",
       "|---|---|---|---|---|---|---|---|---|---|---|---|---|---|---|---|---|---|---|---|---|---|---|---|---|---|---|---|---|---|\n",
       "|  |  1        |  0.00     | 0.9512680 | \n",
       "|  |  2        |  0.04     | 0.8334464 | \n",
       "|  |  3        |  0.06     | 0.8090040 | \n",
       "|  |  4        |  2.41     | 0.1203471 | \n",
       "|  |  5        |  2.47     | 0.2909812 | \n",
       "|  |  6        |  2.78     | 0.4268998 | \n",
       "|  |  7        |  4.99     | 0.2885692 | \n",
       "|  |  8        |  5.12     | 0.4015820 | \n",
       "|  |  9        |  7.56     | 0.2718923 | \n",
       "|  | 10        |  9.27     | 0.2337661 | \n",
       "|  | 11        | 11.14     | 0.1937456 | \n",
       "|  | 12        | 11.52     | 0.2417556 | \n",
       "|  | 13        | 12.25     | 0.2684960 | \n",
       "|  | 14        | 12.54     | 0.3241871 | \n",
       "|  | 15        | 12.83     | 0.3813596 | \n",
       "|  | 16        | 12.87     | 0.4581336 | \n",
       "|  | 17        | 15.51     | 0.3444919 | \n",
       "|  | 18        | 16.46     | 0.3519774 | \n",
       "|  | 19        | 18.45     | 0.2984539 | \n",
       "|  | 20        | 21.22     | 0.2164744 | \n",
       "|  | 21        | 21.41     | 0.2592780 | \n",
       "|  | 22        | 22.18     | 0.2756257 | \n",
       "|  | 23        | 25.08     | 0.1983707 | \n",
       "|  | 24        | 26.24     | 0.1975904 | \n",
       "|  | 25        | 26.50     | 0.2307035 | \n",
       "|  | 26        | 26.74     | 0.2670951 | \n",
       "|  | 27        | 29.42     | 0.2048056 | \n",
       "|  | 28        | 29.47     | 0.2449259 | \n",
       "|  | 29        | 29.85     | 0.2738878 | \n",
       "|  | 30        | 29.92     | 0.3179846 | \n",
       "\n",
       "\n"
      ],
      "text/plain": [
       " m  Qm    pvalue   \n",
       "  1  0.00 0.9512680\n",
       "  2  0.04 0.8334464\n",
       "  3  0.06 0.8090040\n",
       "  4  2.41 0.1203471\n",
       "  5  2.47 0.2909812\n",
       "  6  2.78 0.4268998\n",
       "  7  4.99 0.2885692\n",
       "  8  5.12 0.4015820\n",
       "  9  7.56 0.2718923\n",
       " 10  9.27 0.2337661\n",
       " 11 11.14 0.1937456\n",
       " 12 11.52 0.2417556\n",
       " 13 12.25 0.2684960\n",
       " 14 12.54 0.3241871\n",
       " 15 12.83 0.3813596\n",
       " 16 12.87 0.4581336\n",
       " 17 15.51 0.3444919\n",
       " 18 16.46 0.3519774\n",
       " 19 18.45 0.2984539\n",
       " 20 21.22 0.2164744\n",
       " 21 21.41 0.2592780\n",
       " 22 22.18 0.2756257\n",
       " 23 25.08 0.1983707\n",
       " 24 26.24 0.1975904\n",
       " 25 26.50 0.2307035\n",
       " 26 26.74 0.2670951\n",
       " 27 29.42 0.2048056\n",
       " 28 29.47 0.2449259\n",
       " 29 29.85 0.2738878\n",
       " 30 29.92 0.3179846"
      ]
     },
     "metadata": {},
     "output_type": "display_data"
    }
   ],
   "source": [
    "model.1$LjungBoxQ"
   ]
  },
  {
   "cell_type": "code",
   "execution_count": 20,
   "metadata": {
    "collapsed": false
   },
   "outputs": [
    {
     "name": "stderr",
     "output_type": "stream",
     "text": [
      "Don't know how to automatically pick scale for object of type yearmon. Defaulting to continuous.\n"
     ]
    },
    {
     "data": {},
     "metadata": {},
     "output_type": "display_data"
    },
    {
     "data": {
      "image/png": "[encoded data removed]",
      "text/plain": [
       "plot without title"
      ]
     },
     "metadata": {},
     "output_type": "display_data"
    }
   ],
   "source": [
    "p <- ggplot() +\n",
    "  geom_line(aes(x = index(as.zoo(acc.train.dif.adj)),\n",
    "                y = coredata(as.zoo(acc.train.dif.adj))), col = 'black') +\n",
    "  geom_line(aes(x = index(as.zoo(fitted(model.2))), y = coredata(as.zoo(fitted(model.2)))), col = 'blue')\n",
    "p"
   ]
  },
  {
   "cell_type": "markdown",
   "metadata": {},
   "source": [
    "#### Jugando con pApprox"
   ]
  },
  {
   "cell_type": "code",
   "execution_count": 21,
   "metadata": {
    "collapsed": false
   },
   "outputs": [
    {
     "data": {},
     "metadata": {},
     "output_type": "display_data"
    },
    {
     "data": {
      "image/png": "[encoded data removed]",
      "text/plain": [
       "plot without title"
      ]
     },
     "metadata": {},
     "output_type": "display_data"
    }
   ],
   "source": [
    "pApprox.metrics <- c()\n",
    "pApprox.values <- seq(10, 80, 10)\n",
    "\n",
    "for (i in pApprox.values) {\n",
    "  model <- FitARMA(acc.train.dif.adj, order = c(2,0,1), MeanMLEQ = TRUE, pApprox = i)\n",
    "  pApprox.metrics <- c(pApprox.metrics, model$loglikelihood)\n",
    "}\n",
    "pApp <- data.frame(pApprox = pApprox.values, LogLikelihood = pApprox.metrics)\n",
    "\n",
    "p <- ggplot() +\n",
    "  geom_line(data = pApp, aes(x = pApprox, y = LogLikelihood)) +\n",
    "  xlab('pApprox') + ylab('Loglikelihood') +\n",
    "  scale_x_continuous(breaks = pApprox.values)\n",
    "p"
   ]
  },
  {
   "cell_type": "markdown",
   "metadata": {},
   "source": [
    "#### ARMA(2,1) (FitARMA) (MeanMLEQ = TRUE)"
   ]
  },
  {
   "cell_type": "code",
   "execution_count": 23,
   "metadata": {
    "collapsed": false
   },
   "outputs": [
    {
     "name": "stdout",
     "output_type": "stream",
     "text": [
      "ARIMA(2,0,1)  With mean MLE.\n",
      "length of series = 167 ,  number of parameters = 4\n",
      "loglikelihood = -464.52 ,  aic = 937 ,  bic =  949.5\n"
     ]
    }
   ],
   "source": [
    "model.3 <- FitARMA(acc.train.dif.adj, order = c(2,0,1), MeanMLEQ =  TRUE, pApprox = 80)\n",
    "summary(model.3) # AIC = 937  Loglikelihood = -464.52"
   ]
  },
  {
   "cell_type": "code",
   "execution_count": 24,
   "metadata": {
    "collapsed": false
   },
   "outputs": [
    {
     "data": {
      "text/html": [
       "<table>\n",
       "<thead><tr><th></th><th scope=col>MLE</th><th scope=col>sd</th><th scope=col>Z-ratio</th></tr></thead>\n",
       "<tbody>\n",
       "\t<tr><th scope=row>phi(1)</th><td>0.2466925  </td><td> 0.07792543</td><td> 3.16575124</td></tr>\n",
       "\t<tr><th scope=row>phi(2)</th><td>0.1667451  </td><td> 0.07784360</td><td> 2.14205329</td></tr>\n",
       "\t<tr><th scope=row>theta(1)</th><td>0.9859370  </td><td> 0.01368159</td><td>72.06306074</td></tr>\n",
       "\t<tr><th scope=row>mu</th><td>0.3643851  </td><td>10.53794494</td><td> 0.03457838</td></tr>\n",
       "</tbody>\n",
       "</table>\n"
      ],
      "text/latex": [
       "\\begin{tabular}{r|lll}\n",
       "  & MLE & sd & Z-ratio\\\\\n",
       "\\hline\n",
       "\tphi(1) & 0.2466925   &  0.07792543 &  3.16575124\\\\\n",
       "\tphi(2) & 0.1667451   &  0.07784360 &  2.14205329\\\\\n",
       "\ttheta(1) & 0.9859370   &  0.01368159 & 72.06306074\\\\\n",
       "\tmu & 0.3643851   & 10.53794494 &  0.03457838\\\\\n",
       "\\end{tabular}\n"
      ],
      "text/markdown": [
       "\n",
       "| <!--/--> | MLE | sd | Z-ratio | \n",
       "|---|---|---|---|\n",
       "| phi(1) | 0.2466925   |  0.07792543 |  3.16575124 | \n",
       "| phi(2) | 0.1667451   |  0.07784360 |  2.14205329 | \n",
       "| theta(1) | 0.9859370   |  0.01368159 | 72.06306074 | \n",
       "| mu | 0.3643851   | 10.53794494 |  0.03457838 | \n",
       "\n",
       "\n"
      ],
      "text/plain": [
       "         MLE       sd          Z-ratio    \n",
       "phi(1)   0.2466925  0.07792543  3.16575124\n",
       "phi(2)   0.1667451  0.07784360  2.14205329\n",
       "theta(1) 0.9859370  0.01368159 72.06306074\n",
       "mu       0.3643851 10.53794494  0.03457838"
      ]
     },
     "metadata": {},
     "output_type": "display_data"
    }
   ],
   "source": [
    "coef(model.3)"
   ]
  },
  {
   "cell_type": "code",
   "execution_count": 25,
   "metadata": {
    "collapsed": false
   },
   "outputs": [
    {
     "data": {
      "image/png": "[encoded data removed]",
      "text/plain": [
       "Plot with title \"Series  residuals(model.2)\""
      ]
     },
     "metadata": {},
     "output_type": "display_data"
    }
   ],
   "source": [
    "Acf(residuals(model.2))"
   ]
  },
  {
   "cell_type": "code",
   "execution_count": 26,
   "metadata": {
    "collapsed": false
   },
   "outputs": [
    {
     "data": {
      "text/html": [
       "<table>\n",
       "<thead><tr><th></th><th scope=col>m</th><th scope=col>Qm</th><th scope=col>pvalue</th></tr></thead>\n",
       "<tbody>\n",
       "\t<tr><th scope=row></th><td> 1       </td><td> 0.00    </td><td>0.9512680</td></tr>\n",
       "\t<tr><th scope=row></th><td> 2       </td><td> 0.04    </td><td>0.8334464</td></tr>\n",
       "\t<tr><th scope=row></th><td> 3       </td><td> 0.06    </td><td>0.8090040</td></tr>\n",
       "\t<tr><th scope=row></th><td> 4       </td><td> 2.41    </td><td>0.1203471</td></tr>\n",
       "\t<tr><th scope=row></th><td> 5       </td><td> 2.47    </td><td>0.2909812</td></tr>\n",
       "\t<tr><th scope=row></th><td> 6       </td><td> 2.78    </td><td>0.4268998</td></tr>\n",
       "\t<tr><th scope=row></th><td> 7       </td><td> 4.99    </td><td>0.2885692</td></tr>\n",
       "\t<tr><th scope=row></th><td> 8       </td><td> 5.12    </td><td>0.4015820</td></tr>\n",
       "\t<tr><th scope=row></th><td> 9       </td><td> 7.56    </td><td>0.2718923</td></tr>\n",
       "\t<tr><th scope=row></th><td>10       </td><td> 9.27    </td><td>0.2337661</td></tr>\n",
       "\t<tr><th scope=row></th><td>11       </td><td>11.14    </td><td>0.1937456</td></tr>\n",
       "\t<tr><th scope=row></th><td>12       </td><td>11.52    </td><td>0.2417556</td></tr>\n",
       "\t<tr><th scope=row></th><td>13       </td><td>12.25    </td><td>0.2684960</td></tr>\n",
       "\t<tr><th scope=row></th><td>14       </td><td>12.54    </td><td>0.3241871</td></tr>\n",
       "\t<tr><th scope=row></th><td>15       </td><td>12.83    </td><td>0.3813596</td></tr>\n",
       "\t<tr><th scope=row></th><td>16       </td><td>12.87    </td><td>0.4581336</td></tr>\n",
       "\t<tr><th scope=row></th><td>17       </td><td>15.51    </td><td>0.3444919</td></tr>\n",
       "\t<tr><th scope=row></th><td>18       </td><td>16.46    </td><td>0.3519774</td></tr>\n",
       "\t<tr><th scope=row></th><td>19       </td><td>18.45    </td><td>0.2984539</td></tr>\n",
       "\t<tr><th scope=row></th><td>20       </td><td>21.22    </td><td>0.2164744</td></tr>\n",
       "\t<tr><th scope=row></th><td>21       </td><td>21.41    </td><td>0.2592780</td></tr>\n",
       "\t<tr><th scope=row></th><td>22       </td><td>22.18    </td><td>0.2756257</td></tr>\n",
       "\t<tr><th scope=row></th><td>23       </td><td>25.08    </td><td>0.1983707</td></tr>\n",
       "\t<tr><th scope=row></th><td>24       </td><td>26.24    </td><td>0.1975904</td></tr>\n",
       "\t<tr><th scope=row></th><td>25       </td><td>26.50    </td><td>0.2307035</td></tr>\n",
       "\t<tr><th scope=row></th><td>26       </td><td>26.74    </td><td>0.2670951</td></tr>\n",
       "\t<tr><th scope=row></th><td>27       </td><td>29.42    </td><td>0.2048056</td></tr>\n",
       "\t<tr><th scope=row></th><td>28       </td><td>29.47    </td><td>0.2449259</td></tr>\n",
       "\t<tr><th scope=row></th><td>29       </td><td>29.85    </td><td>0.2738878</td></tr>\n",
       "\t<tr><th scope=row></th><td>30       </td><td>29.92    </td><td>0.3179846</td></tr>\n",
       "</tbody>\n",
       "</table>\n"
      ],
      "text/latex": [
       "\\begin{tabular}{r|lll}\n",
       "  & m & Qm & pvalue\\\\\n",
       "\\hline\n",
       "\t &  1        &  0.00     & 0.9512680\\\\\n",
       "\t &  2        &  0.04     & 0.8334464\\\\\n",
       "\t &  3        &  0.06     & 0.8090040\\\\\n",
       "\t &  4        &  2.41     & 0.1203471\\\\\n",
       "\t &  5        &  2.47     & 0.2909812\\\\\n",
       "\t &  6        &  2.78     & 0.4268998\\\\\n",
       "\t &  7        &  4.99     & 0.2885692\\\\\n",
       "\t &  8        &  5.12     & 0.4015820\\\\\n",
       "\t &  9        &  7.56     & 0.2718923\\\\\n",
       "\t & 10        &  9.27     & 0.2337661\\\\\n",
       "\t & 11        & 11.14     & 0.1937456\\\\\n",
       "\t & 12        & 11.52     & 0.2417556\\\\\n",
       "\t & 13        & 12.25     & 0.2684960\\\\\n",
       "\t & 14        & 12.54     & 0.3241871\\\\\n",
       "\t & 15        & 12.83     & 0.3813596\\\\\n",
       "\t & 16        & 12.87     & 0.4581336\\\\\n",
       "\t & 17        & 15.51     & 0.3444919\\\\\n",
       "\t & 18        & 16.46     & 0.3519774\\\\\n",
       "\t & 19        & 18.45     & 0.2984539\\\\\n",
       "\t & 20        & 21.22     & 0.2164744\\\\\n",
       "\t & 21        & 21.41     & 0.2592780\\\\\n",
       "\t & 22        & 22.18     & 0.2756257\\\\\n",
       "\t & 23        & 25.08     & 0.1983707\\\\\n",
       "\t & 24        & 26.24     & 0.1975904\\\\\n",
       "\t & 25        & 26.50     & 0.2307035\\\\\n",
       "\t & 26        & 26.74     & 0.2670951\\\\\n",
       "\t & 27        & 29.42     & 0.2048056\\\\\n",
       "\t & 28        & 29.47     & 0.2449259\\\\\n",
       "\t & 29        & 29.85     & 0.2738878\\\\\n",
       "\t & 30        & 29.92     & 0.3179846\\\\\n",
       "\\end{tabular}\n"
      ],
      "text/markdown": [
       "\n",
       "| <!--/--> | m | Qm | pvalue | \n",
       "|---|---|---|---|---|---|---|---|---|---|---|---|---|---|---|---|---|---|---|---|---|---|---|---|---|---|---|---|---|---|\n",
       "|  |  1        |  0.00     | 0.9512680 | \n",
       "|  |  2        |  0.04     | 0.8334464 | \n",
       "|  |  3        |  0.06     | 0.8090040 | \n",
       "|  |  4        |  2.41     | 0.1203471 | \n",
       "|  |  5        |  2.47     | 0.2909812 | \n",
       "|  |  6        |  2.78     | 0.4268998 | \n",
       "|  |  7        |  4.99     | 0.2885692 | \n",
       "|  |  8        |  5.12     | 0.4015820 | \n",
       "|  |  9        |  7.56     | 0.2718923 | \n",
       "|  | 10        |  9.27     | 0.2337661 | \n",
       "|  | 11        | 11.14     | 0.1937456 | \n",
       "|  | 12        | 11.52     | 0.2417556 | \n",
       "|  | 13        | 12.25     | 0.2684960 | \n",
       "|  | 14        | 12.54     | 0.3241871 | \n",
       "|  | 15        | 12.83     | 0.3813596 | \n",
       "|  | 16        | 12.87     | 0.4581336 | \n",
       "|  | 17        | 15.51     | 0.3444919 | \n",
       "|  | 18        | 16.46     | 0.3519774 | \n",
       "|  | 19        | 18.45     | 0.2984539 | \n",
       "|  | 20        | 21.22     | 0.2164744 | \n",
       "|  | 21        | 21.41     | 0.2592780 | \n",
       "|  | 22        | 22.18     | 0.2756257 | \n",
       "|  | 23        | 25.08     | 0.1983707 | \n",
       "|  | 24        | 26.24     | 0.1975904 | \n",
       "|  | 25        | 26.50     | 0.2307035 | \n",
       "|  | 26        | 26.74     | 0.2670951 | \n",
       "|  | 27        | 29.42     | 0.2048056 | \n",
       "|  | 28        | 29.47     | 0.2449259 | \n",
       "|  | 29        | 29.85     | 0.2738878 | \n",
       "|  | 30        | 29.92     | 0.3179846 | \n",
       "\n",
       "\n"
      ],
      "text/plain": [
       " m  Qm    pvalue   \n",
       "  1  0.00 0.9512680\n",
       "  2  0.04 0.8334464\n",
       "  3  0.06 0.8090040\n",
       "  4  2.41 0.1203471\n",
       "  5  2.47 0.2909812\n",
       "  6  2.78 0.4268998\n",
       "  7  4.99 0.2885692\n",
       "  8  5.12 0.4015820\n",
       "  9  7.56 0.2718923\n",
       " 10  9.27 0.2337661\n",
       " 11 11.14 0.1937456\n",
       " 12 11.52 0.2417556\n",
       " 13 12.25 0.2684960\n",
       " 14 12.54 0.3241871\n",
       " 15 12.83 0.3813596\n",
       " 16 12.87 0.4581336\n",
       " 17 15.51 0.3444919\n",
       " 18 16.46 0.3519774\n",
       " 19 18.45 0.2984539\n",
       " 20 21.22 0.2164744\n",
       " 21 21.41 0.2592780\n",
       " 22 22.18 0.2756257\n",
       " 23 25.08 0.1983707\n",
       " 24 26.24 0.1975904\n",
       " 25 26.50 0.2307035\n",
       " 26 26.74 0.2670951\n",
       " 27 29.42 0.2048056\n",
       " 28 29.47 0.2449259\n",
       " 29 29.85 0.2738878\n",
       " 30 29.92 0.3179846"
      ]
     },
     "metadata": {},
     "output_type": "display_data"
    }
   ],
   "source": [
    "model.1$LjungBoxQ"
   ]
  },
  {
   "cell_type": "markdown",
   "metadata": {},
   "source": [
    "#### Comparando tiempos para ARMAs entre librerias"
   ]
  },
  {
   "cell_type": "code",
   "execution_count": 28,
   "metadata": {
    "collapsed": false,
    "scrolled": false
   },
   "outputs": [
    {
     "data": {},
     "metadata": {},
     "output_type": "display_data"
    },
    {
     "data": {
      "image/png": "[encoded data removed]",
      "text/plain": [
       "plot without title"
      ]
     },
     "metadata": {},
     "output_type": "display_data"
    }
   ],
   "source": [
    "set.seed(1006)\n",
    "\n",
    "p <- 2; q <- 1\n",
    "timing.forecast <- c()\n",
    "timing.tseries <- c()\n",
    "timing.fitarma <- c()\n",
    "\n",
    "for (i in 1:50) {\n",
    "    timing.fitarma <- c(timing.fitarma,\n",
    "                        as.numeric(system.time(FitARMA(acc.train.dif.adj, order = c(p,0,q)))[3]))\n",
    "    \n",
    "    timing.forecast <- c(timing.forecast,\n",
    "                         as.numeric(system.time(Arima(acc.train.dif.adj, order = c(p,0,q)))[3]))\n",
    "    \n",
    "    timing.tseries <- c(timing.tseries,\n",
    "                        as.numeric(system.time(arma(acc.train.dif.adj, order = c(p, q)))[3]))\n",
    "}\n",
    "\n",
    "\n",
    "timing.plot <- ggplot() +\n",
    "  geom_line(aes(x = 1:length(timing.forecast), y = timing.forecast, colour = 'Forecast')) +\n",
    "  geom_line(aes(x = 1:length(timing.tseries), y = timing.tseries, colour = 'TSeries')) +\n",
    "  geom_line(aes(x = 1:length(timing.fitarma), y = timing.fitarma, colour = 'FitARMA')) +\n",
    "  xlab('Simulación') + ylab('Tiempo de ejecución en segundos') +\n",
    "  scale_color_manual(name = 'Leyenda', values = c('TSeries' = 'red', 'Forecast' = 'blue',\n",
    "                                                  'FitARMA' = 'green'),\n",
    "                     labels = c('FitARMA', 'Forecast', 'TSeries'))\n",
    "timing.plot"
   ]
  }
 ],
 "metadata": {
  "kernelspec": {
   "display_name": "R",
   "language": "R",
   "name": "ir"
  },
  "language_info": {
   "codemirror_mode": "r",
   "file_extension": ".r",
   "mimetype": "text/x-r-source",
   "name": "R",
   "pygments_lexer": "r",
   "version": "3.3.2"
  }
 },
 "nbformat": 4,
 "nbformat_minor": 2
}
