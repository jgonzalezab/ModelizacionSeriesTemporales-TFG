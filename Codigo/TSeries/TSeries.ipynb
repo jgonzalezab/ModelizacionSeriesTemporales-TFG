{
 "cells": [
  {
   "cell_type": "markdown",
   "metadata": {},
   "source": [
    "# TSeries Package"
   ]
  },
  {
   "cell_type": "markdown",
   "metadata": {},
   "source": [
    "#### Cargamos las librerías auxiliares"
   ]
  },
  {
   "cell_type": "code",
   "execution_count": 1,
   "metadata": {
    "collapsed": true
   },
   "outputs": [
    {
     "name": "stderr",
     "output_type": "stream",
     "text": [
      "Warning message:\n",
      "\"package 'ggplot2' was built under R version 3.3.3\"Warning message:\n",
      "\"package 'zoo' was built under R version 3.3.3\"\n",
      "Attaching package: 'zoo'\n",
      "\n",
      "The following objects are masked from 'package:base':\n",
      "\n",
      "    as.Date, as.Date.numeric\n",
      "\n"
     ]
    }
   ],
   "source": [
    "library(ggplot2)\n",
    "library(zoo)\n",
    "library(forecast)"
   ]
  },
  {
   "cell_type": "markdown",
   "metadata": {},
   "source": [
    "#### Cargamos TSeries"
   ]
  },
  {
   "cell_type": "code",
   "execution_count": 2,
   "metadata": {
    "collapsed": true
   },
   "outputs": [
    {
     "name": "stderr",
     "output_type": "stream",
     "text": [
      "Warning message:\n",
      "\"package 'tseries' was built under R version 3.3.3\""
     ]
    }
   ],
   "source": [
    "#install.packages('tseries')\n",
    "library(tseries)"
   ]
  },
  {
   "cell_type": "markdown",
   "metadata": {},
   "source": [
    "#### Cargamos los datos"
   ]
  },
  {
   "cell_type": "code",
   "execution_count": 3,
   "metadata": {
    "collapsed": true
   },
   "outputs": [],
   "source": [
    "datos <- read.csv('monthly-traffic-fatalities-in-on.csv')\n",
    "accidentes <- ts(datos, start = c(1960, 1), frequency = 12)\n",
    "accidentes.zoo <- zoo(datos, order.by = seq.Date(from = as.Date('1960/01/01'), by = 'month',\n",
    "                                             length.out = nrow(datos)), frequency = 12)\n",
    "colnames(accidentes.zoo) <- 'accidentes'"
   ]
  },
  {
   "cell_type": "markdown",
   "metadata": {},
   "source": [
    "#### Función genérica para plotting de test vs pred a través de ggplot2"
   ]
  },
  {
   "cell_type": "code",
   "execution_count": 4,
   "metadata": {
    "collapsed": true
   },
   "outputs": [],
   "source": [
    "combine <- function(test, pred) {\n",
    "  require(ggplot2)\n",
    "  p <- ggplot() +\n",
    "    geom_line(aes(x = index(as.zoo(test)), y = coredata(as.zoo(test)), colour = 'Test')) +\n",
    "    geom_line(aes(x = index(as.zoo(test)), y = pred, colour = 'Prediccion')) +\n",
    "    scale_color_manual(name = 'Leyenda', values = c('Test' = 'black', 'Prediccion' = 'red'),\n",
    "                       labels = c('Test','Prediccion'))\n",
    "  p\n",
    "}"
   ]
  },
  {
   "cell_type": "markdown",
   "metadata": {},
   "source": [
    "#### Ajustamos estacionalmente la serie y volvemos a dividir en dos conjuntos"
   ]
  },
  {
   "cell_type": "code",
   "execution_count": 5,
   "metadata": {
    "collapsed": true
   },
   "outputs": [],
   "source": [
    "decomposition <- decompose(accidentes, type = 'additive')\n",
    "accidentes.adj <- seasadj(decomposition) # Forecast\n",
    "acc.train.adj <- window(accidentes.adj, start = c(1960,1), end = c(1973,12))\n",
    "acc.test.adj <- window(accidentes.adj, start = c(1974,1))"
   ]
  },
  {
   "cell_type": "markdown",
   "metadata": {},
   "source": [
    "#### Plotting con ggplot del training y el test"
   ]
  },
  {
   "cell_type": "code",
   "execution_count": 6,
   "metadata": {
    "collapsed": false
   },
   "outputs": [
    {
     "name": "stderr",
     "output_type": "stream",
     "text": [
      "Don't know how to automatically pick scale for object of type yearmon. Defaulting to continuous.\n"
     ]
    },
    {
     "data": {},
     "metadata": {},
     "output_type": "display_data"
    },
    {
     "data": {
      "image/png": "[encoded data removed]",
      "text/plain": [
       "plot without title"
      ]
     },
     "metadata": {},
     "output_type": "display_data"
    }
   ],
   "source": [
    "p <- ggplot() +\n",
    "  geom_line(aes(x = index(as.zoo(acc.train.adj)), y = coredata(as.zoo(acc.train.adj))), col = 'blue') +\n",
    "  geom_line(aes(x = index(as.zoo(acc.test.adj)), y = coredata(as.zoo(acc.test.adj))), col = 'red')\n",
    "p"
   ]
  },
  {
   "cell_type": "markdown",
   "metadata": {},
   "source": [
    "#### ¿Es estacionaria?"
   ]
  },
  {
   "cell_type": "code",
   "execution_count": 7,
   "metadata": {
    "collapsed": false
   },
   "outputs": [
    {
     "name": "stderr",
     "output_type": "stream",
     "text": [
      "Warning message in adf.test(acc.train.adj, alternative = \"stationary\"):\n",
      "\"p-value smaller than printed p-value\""
     ]
    },
    {
     "data": {
      "text/plain": [
       "\n",
       "\tAugmented Dickey-Fuller Test\n",
       "\n",
       "data:  acc.train.adj\n",
       "Dickey-Fuller = -4.7501, Lag order = 5, p-value = 0.01\n",
       "alternative hypothesis: stationary\n"
      ]
     },
     "metadata": {},
     "output_type": "display_data"
    }
   ],
   "source": [
    "adf.test(acc.train.adj, alternative = 'stationary') # Es estacionaria"
   ]
  },
  {
   "cell_type": "code",
   "execution_count": 8,
   "metadata": {
    "collapsed": false
   },
   "outputs": [
    {
     "name": "stderr",
     "output_type": "stream",
     "text": [
      "Warning message in adf.test(acc.train.adj, alternative = \"explosive\"):\n",
      "\"p-value smaller than printed p-value\""
     ]
    },
    {
     "data": {
      "text/plain": [
       "\n",
       "\tAugmented Dickey-Fuller Test\n",
       "\n",
       "data:  acc.train.adj\n",
       "Dickey-Fuller = -4.7501, Lag order = 5, p-value = 0.99\n",
       "alternative hypothesis: explosive\n"
      ]
     },
     "metadata": {},
     "output_type": "display_data"
    }
   ],
   "source": [
    "adf.test(acc.train.adj, alternative = 'explosive') # No es explosiva"
   ]
  },
  {
   "cell_type": "code",
   "execution_count": 9,
   "metadata": {
    "collapsed": false
   },
   "outputs": [
    {
     "name": "stderr",
     "output_type": "stream",
     "text": [
      "Warning message in pp.test(acc.train.adj, alternative = \"stationary\"):\n",
      "\"p-value smaller than printed p-value\""
     ]
    },
    {
     "data": {
      "text/plain": [
       "\n",
       "\tPhillips-Perron Unit Root Test\n",
       "\n",
       "data:  acc.train.adj\n",
       "Dickey-Fuller Z(alpha) = -127.76, Truncation lag parameter = 4, p-value\n",
       "= 0.01\n",
       "alternative hypothesis: stationary\n"
      ]
     },
     "metadata": {},
     "output_type": "display_data"
    }
   ],
   "source": [
    "pp.test(acc.train.adj, alternative = 'stationary') # Es estacionaria"
   ]
  },
  {
   "cell_type": "code",
   "execution_count": 10,
   "metadata": {
    "collapsed": false
   },
   "outputs": [
    {
     "name": "stderr",
     "output_type": "stream",
     "text": [
      "Warning message in pp.test(acc.train.adj, alternative = \"explosive\"):\n",
      "\"p-value smaller than printed p-value\""
     ]
    },
    {
     "data": {
      "text/plain": [
       "\n",
       "\tPhillips-Perron Unit Root Test\n",
       "\n",
       "data:  acc.train.adj\n",
       "Dickey-Fuller Z(alpha) = -127.76, Truncation lag parameter = 4, p-value\n",
       "= 0.99\n",
       "alternative hypothesis: explosive\n"
      ]
     },
     "metadata": {},
     "output_type": "display_data"
    }
   ],
   "source": [
    "pp.test(acc.train.adj, alternative = 'explosive') # No es explosiva"
   ]
  },
  {
   "cell_type": "code",
   "execution_count": 11,
   "metadata": {
    "collapsed": false
   },
   "outputs": [
    {
     "data": {
      "text/plain": [
       "\n",
       "\tKPSS Test for Trend Stationarity\n",
       "\n",
       "data:  acc.train.adj\n",
       "KPSS Trend = 0.14327, Truncation lag parameter = 2, p-value = 0.05506\n"
      ]
     },
     "metadata": {},
     "output_type": "display_data"
    }
   ],
   "source": [
    "kpss.test(acc.train.adj, null = 'Trend') # 0.055"
   ]
  },
  {
   "cell_type": "markdown",
   "metadata": {},
   "source": [
    "#### Diferenciamos para hacerla estacionaria en tendencia (evidencias visuales)"
   ]
  },
  {
   "cell_type": "code",
   "execution_count": 12,
   "metadata": {
    "collapsed": true
   },
   "outputs": [],
   "source": [
    "accidentes.dif.adj <- diff(accidentes.adj) \n",
    "acc.train.dif.adj <- window(accidentes.dif.adj, start = c(1960,2), end = c(1973,12)) # Perdemos una observación\n",
    "acc.test.dif.adj <- window(accidentes.dif.adj, start = c(1974,1))"
   ]
  },
  {
   "cell_type": "markdown",
   "metadata": {},
   "source": [
    "#### Repetimos los tests"
   ]
  },
  {
   "cell_type": "code",
   "execution_count": 13,
   "metadata": {
    "collapsed": false
   },
   "outputs": [
    {
     "name": "stderr",
     "output_type": "stream",
     "text": [
      "Warning message in adf.test(acc.train.dif.adj, alternative = \"stationary\"):\n",
      "\"p-value smaller than printed p-value\""
     ]
    },
    {
     "data": {
      "text/plain": [
       "\n",
       "\tAugmented Dickey-Fuller Test\n",
       "\n",
       "data:  acc.train.dif.adj\n",
       "Dickey-Fuller = -7.3046, Lag order = 5, p-value = 0.01\n",
       "alternative hypothesis: stationary\n"
      ]
     },
     "metadata": {},
     "output_type": "display_data"
    }
   ],
   "source": [
    "adf.test(acc.train.dif.adj, alternative = 'stationary') # Es estacionaria"
   ]
  },
  {
   "cell_type": "code",
   "execution_count": 14,
   "metadata": {
    "collapsed": false
   },
   "outputs": [
    {
     "name": "stderr",
     "output_type": "stream",
     "text": [
      "Warning message in adf.test(acc.train.dif.adj, alternative = \"explosive\"):\n",
      "\"p-value smaller than printed p-value\""
     ]
    },
    {
     "data": {
      "text/plain": [
       "\n",
       "\tAugmented Dickey-Fuller Test\n",
       "\n",
       "data:  acc.train.dif.adj\n",
       "Dickey-Fuller = -7.3046, Lag order = 5, p-value = 0.99\n",
       "alternative hypothesis: explosive\n"
      ]
     },
     "metadata": {},
     "output_type": "display_data"
    }
   ],
   "source": [
    "adf.test(acc.train.dif.adj, alternative = 'explosive') # No es explosiva"
   ]
  },
  {
   "cell_type": "code",
   "execution_count": 15,
   "metadata": {
    "collapsed": false
   },
   "outputs": [
    {
     "name": "stderr",
     "output_type": "stream",
     "text": [
      "Warning message in pp.test(acc.train.adj, alternative = \"stationary\"):\n",
      "\"p-value smaller than printed p-value\""
     ]
    },
    {
     "data": {
      "text/plain": [
       "\n",
       "\tPhillips-Perron Unit Root Test\n",
       "\n",
       "data:  acc.train.adj\n",
       "Dickey-Fuller Z(alpha) = -127.76, Truncation lag parameter = 4, p-value\n",
       "= 0.01\n",
       "alternative hypothesis: stationary\n"
      ]
     },
     "metadata": {},
     "output_type": "display_data"
    }
   ],
   "source": [
    "pp.test(acc.train.adj, alternative = 'stationary') # Es estacionaria"
   ]
  },
  {
   "cell_type": "code",
   "execution_count": 16,
   "metadata": {
    "collapsed": false
   },
   "outputs": [
    {
     "name": "stderr",
     "output_type": "stream",
     "text": [
      "Warning message in pp.test(acc.train.adj, alternative = \"explosive\"):\n",
      "\"p-value smaller than printed p-value\""
     ]
    },
    {
     "data": {
      "text/plain": [
       "\n",
       "\tPhillips-Perron Unit Root Test\n",
       "\n",
       "data:  acc.train.adj\n",
       "Dickey-Fuller Z(alpha) = -127.76, Truncation lag parameter = 4, p-value\n",
       "= 0.99\n",
       "alternative hypothesis: explosive\n"
      ]
     },
     "metadata": {},
     "output_type": "display_data"
    }
   ],
   "source": [
    "pp.test(acc.train.adj, alternative = 'explosive') # No es explosiva"
   ]
  },
  {
   "cell_type": "code",
   "execution_count": 17,
   "metadata": {
    "collapsed": false
   },
   "outputs": [
    {
     "name": "stderr",
     "output_type": "stream",
     "text": [
      "Warning message in kpss.test(acc.train.dif.adj, null = \"Trend\"):\n",
      "\"p-value greater than printed p-value\""
     ]
    },
    {
     "data": {
      "text/plain": [
       "\n",
       "\tKPSS Test for Trend Stationarity\n",
       "\n",
       "data:  acc.train.dif.adj\n",
       "KPSS Trend = 0.01118, Truncation lag parameter = 2, p-value = 0.1\n"
      ]
     },
     "metadata": {},
     "output_type": "display_data"
    }
   ],
   "source": [
    "kpss.test(acc.train.dif.adj, null = 'Trend') # Es estacionaria en tendencia"
   ]
  },
  {
   "cell_type": "markdown",
   "metadata": {},
   "source": [
    "#### Plotting con ggplot del nuevo training y el test"
   ]
  },
  {
   "cell_type": "code",
   "execution_count": 18,
   "metadata": {
    "collapsed": false
   },
   "outputs": [
    {
     "name": "stderr",
     "output_type": "stream",
     "text": [
      "Don't know how to automatically pick scale for object of type yearmon. Defaulting to continuous.\n"
     ]
    },
    {
     "data": {},
     "metadata": {},
     "output_type": "display_data"
    },
    {
     "data": {
      "image/png": "[encoded data removed]",
      "text/plain": [
       "plot without title"
      ]
     },
     "metadata": {},
     "output_type": "display_data"
    }
   ],
   "source": [
    "p <- ggplot() +\n",
    "  geom_line(aes(x = index(as.zoo(acc.train.dif.adj)), y = coredata(as.zoo(acc.train.dif.adj))), col = 'blue') +\n",
    "  geom_line(aes(x = index(as.zoo(acc.test.dif.adj)), y = coredata(as.zoo(acc.test.dif.adj))), col = 'red')\n",
    "p"
   ]
  },
  {
   "cell_type": "markdown",
   "metadata": {},
   "source": [
    "#### Linealidad en media"
   ]
  },
  {
   "cell_type": "code",
   "execution_count": 19,
   "metadata": {
    "collapsed": false
   },
   "outputs": [
    {
     "data": {
      "text/plain": [
       "\n",
       "\tTeraesvirta Neural Network Test\n",
       "\n",
       "data:  acc.train.dif.adj\n",
       "X-squared = 0.21309, df = 2, p-value = 0.8989\n"
      ]
     },
     "metadata": {},
     "output_type": "display_data"
    }
   ],
   "source": [
    "terasvirta.test(acc.train.dif.adj) # Es lineal en media"
   ]
  },
  {
   "cell_type": "code",
   "execution_count": 20,
   "metadata": {
    "collapsed": false
   },
   "outputs": [
    {
     "data": {
      "text/plain": [
       "\n",
       "\tWhite Neural Network Test\n",
       "\n",
       "data:  acc.train.adj\n",
       "X-squared = 0.24774, df = 2, p-value = 0.8835\n"
      ]
     },
     "metadata": {},
     "output_type": "display_data"
    }
   ],
   "source": [
    "white.test(acc.train.adj) # Es lineal en media"
   ]
  },
  {
   "cell_type": "markdown",
   "metadata": {},
   "source": [
    "#### Calculamos la mayor diferencia en las diferencias"
   ]
  },
  {
   "cell_type": "code",
   "execution_count": 22,
   "metadata": {
    "collapsed": false
   },
   "outputs": [
    {
     "data": {
      "text/html": [
       "<dl>\n",
       "\t<dt>$maxdrawdown</dt>\n",
       "\t\t<dd>104.348214285714</dd>\n",
       "\t<dt>$from</dt>\n",
       "\t\t<dd>92</dd>\n",
       "\t<dt>$to</dt>\n",
       "\t\t<dd>114</dd>\n",
       "</dl>\n"
      ],
      "text/latex": [
       "\\begin{description}\n",
       "\\item[\\$maxdrawdown] 104.348214285714\n",
       "\\item[\\$from] 92\n",
       "\\item[\\$to] 114\n",
       "\\end{description}\n"
      ],
      "text/markdown": [
       "$maxdrawdown\n",
       ":   104.348214285714\n",
       "$from\n",
       ":   92\n",
       "$to\n",
       ":   114\n",
       "\n",
       "\n"
      ],
      "text/plain": [
       "$maxdrawdown\n",
       "[1] 104.3482\n",
       "\n",
       "$from\n",
       "[1] 92\n",
       "\n",
       "$to\n",
       "[1] 114\n"
      ]
     },
     "metadata": {},
     "output_type": "display_data"
    }
   ],
   "source": [
    "maxdrawdown(acc.train.dif.adj)\n",
    "acc.train.dif.adj.drop <- window(acc.train.dif.adj, start = c(1967, 9), end = c(1969, 7))"
   ]
  },
  {
   "cell_type": "code",
   "execution_count": 23,
   "metadata": {
    "collapsed": false
   },
   "outputs": [
    {
     "name": "stderr",
     "output_type": "stream",
     "text": [
      "Don't know how to automatically pick scale for object of type yearmon. Defaulting to continuous.\n"
     ]
    },
    {
     "data": {},
     "metadata": {},
     "output_type": "display_data"
    },
    {
     "data": {
      "image/png": "[encoded data removed]",
      "text/plain": [
       "plot without title"
      ]
     },
     "metadata": {},
     "output_type": "display_data"
    }
   ],
   "source": [
    "p <- ggplot() +\n",
    "  geom_line(aes(x = index(as.zoo(acc.train.dif.adj)),\n",
    "                y = coredata(as.zoo(acc.train.dif.adj))), col = 'blue') +\n",
    "  geom_line(aes(x = index(as.zoo(acc.train.dif.adj.drop)),\n",
    "                y = coredata(as.zoo(acc.train.dif.adj.drop))), col = 'red')\n",
    "p"
   ]
  },
  {
   "cell_type": "markdown",
   "metadata": {},
   "source": [
    "#### Bootstrap"
   ]
  },
  {
   "cell_type": "code",
   "execution_count": 24,
   "metadata": {
    "collapsed": false
   },
   "outputs": [
    {
     "name": "stderr",
     "output_type": "stream",
     "text": [
      "Don't know how to automatically pick scale for object of type yearmon. Defaulting to continuous.\n"
     ]
    },
    {
     "data": {},
     "metadata": {},
     "output_type": "display_data"
    },
    {
     "data": {
      "image/png": "[encoded data removed]",
      "text/plain": [
       "plot without title"
      ]
     },
     "metadata": {},
     "output_type": "display_data"
    }
   ],
   "source": [
    "boots.block <- tsbootstrap(acc.train.dif.adj, type = 'block')\n",
    "boots.stationary <- tsbootstrap(acc.train.dif.adj, type = 'stationary')\n",
    "\n",
    "p <- ggplot() +\n",
    "  geom_line(aes(x = index(as.zoo(acc.train.dif.adj)),\n",
    "                y = coredata(as.zoo(acc.train.dif.adj))), col = 'black') +\n",
    "  geom_line(aes(x = index(as.zoo(boots.block)), y = coredata(as.zoo(boots.block))), col = 'blue')\n",
    "p"
   ]
  },
  {
   "cell_type": "code",
   "execution_count": 25,
   "metadata": {
    "collapsed": false
   },
   "outputs": [
    {
     "name": "stderr",
     "output_type": "stream",
     "text": [
      "Don't know how to automatically pick scale for object of type yearmon. Defaulting to continuous.\n"
     ]
    },
    {
     "data": {},
     "metadata": {},
     "output_type": "display_data"
    },
    {
     "data": {
      "image/png": "[encoded data removed]",
      "text/plain": [
       "plot without title"
      ]
     },
     "metadata": {},
     "output_type": "display_data"
    }
   ],
   "source": [
    "p <- ggplot() +\n",
    "  geom_line(aes(x = index(as.zoo(acc.train.dif.adj)),\n",
    "                y = coredata(as.zoo(acc.train.dif.adj))), col = 'black') +\n",
    "  geom_line(aes(x = index(as.zoo(boots.stationary)), y = coredata(as.zoo(boots.stationary))), col = 'blue')\n",
    "p"
   ]
  },
  {
   "cell_type": "code",
   "execution_count": 26,
   "metadata": {
    "collapsed": false
   },
   "outputs": [
    {
     "data": {
      "text/plain": [
       "\n",
       "Call:\n",
       "tsbootstrap(x = acc.train.dif.adj, nb = 500, statistic = initial.acf, \n",
       "    type = \"stationary\")\n",
       "\n",
       "Resampled Statistic(s):\n",
       "   original      bias std. error\n",
       "t1 -0.46105  0.033034    0.05237\n",
       "t2  0.05999 -0.011985    0.08144\n",
       "t3 -0.00991  0.001218    0.07900\n",
       "t4 -0.11464  0.029676    0.08427\n",
       "t5  0.07060 -0.014197    0.08352\n",
       "t6 -0.01765  0.014046    0.07475\n",
       "t7 -0.08207  0.018781    0.07285\n"
      ]
     },
     "metadata": {},
     "output_type": "display_data"
    }
   ],
   "source": [
    "initial.acf <- function(serie) {\n",
    "  return(acf(serie, plot = FALSE)$acf[2:8])\n",
    "}\n",
    "\n",
    "tsbootstrap(acc.train.dif.adj, nb= 500, type = 'stationary',\n",
    "            statistic = initial.acf)"
   ]
  },
  {
   "cell_type": "markdown",
   "metadata": {},
   "source": [
    "#### Surrogate"
   ]
  },
  {
   "cell_type": "code",
   "execution_count": 27,
   "metadata": {
    "collapsed": false
   },
   "outputs": [
    {
     "name": "stderr",
     "output_type": "stream",
     "text": [
      "Don't know how to automatically pick scale for object of type yearmon. Defaulting to continuous.\n"
     ]
    },
    {
     "data": {},
     "metadata": {},
     "output_type": "display_data"
    },
    {
     "data": {
      "image/png": "[encoded data removed]",
      "text/plain": [
       "plot without title"
      ]
     },
     "metadata": {},
     "output_type": "display_data"
    }
   ],
   "source": [
    "surr <- surrogate(acc.train.dif.adj, ns = 1, fft = TRUE, amplitude = TRUE)\n",
    "p <- ggplot() +\n",
    "  geom_line(aes(x = index(as.zoo(acc.train.dif.adj)),\n",
    "                y = coredata(as.zoo(acc.train.dif.adj))), col = 'black') +\n",
    "  geom_line(aes(x = index(as.zoo(surr)), y = coredata(as.zoo(surr))), col = 'blue')\n",
    "p"
   ]
  },
  {
   "cell_type": "markdown",
   "metadata": {},
   "source": [
    "#### Estudiamos los correlogramas"
   ]
  },
  {
   "cell_type": "code",
   "execution_count": 28,
   "metadata": {
    "collapsed": false
   },
   "outputs": [
    {
     "data": {
      "image/png": "[encoded data removed]",
      "text/plain": [
       "Plot with title \"object$x\""
      ]
     },
     "metadata": {},
     "output_type": "display_data"
    }
   ],
   "source": [
    "Acf(acc.train.dif.adj)"
   ]
  },
  {
   "cell_type": "code",
   "execution_count": 29,
   "metadata": {
    "collapsed": false
   },
   "outputs": [
    {
     "data": {
      "image/png": "[encoded data removed]",
      "text/plain": [
       "Plot with title \"Series  acc.train.dif.adj\""
      ]
     },
     "metadata": {},
     "output_type": "display_data"
    }
   ],
   "source": [
    "Pacf(acc.train.dif.adj)"
   ]
  },
  {
   "cell_type": "markdown",
   "metadata": {},
   "source": [
    "#### Ajustamos un ARIMA(1,1,1)"
   ]
  },
  {
   "cell_type": "code",
   "execution_count": 30,
   "metadata": {
    "collapsed": false
   },
   "outputs": [
    {
     "data": {
      "text/plain": [
       "\n",
       "Call:\n",
       "arma(x = acc.train.dif.adj, order = c(1, 1), include.intercept = FALSE)\n",
       "\n",
       "Model:\n",
       "ARMA(1,1)\n",
       "\n",
       "Residuals:\n",
       "    Min      1Q  Median      3Q     Max \n",
       "-39.253  -8.132   1.725  11.008  47.662 \n",
       "\n",
       "Coefficient(s):\n",
       "     Estimate  Std. Error  t value Pr(>|t|)    \n",
       "ar1   0.18343     0.09343    1.963   0.0496 *  \n",
       "ma1  -0.85834     0.05004  -17.153   <2e-16 ***\n",
       "---\n",
       "Signif. codes:  0 '***' 0.001 '**' 0.01 '*' 0.05 '.' 0.1 ' ' 1\n",
       "\n",
       "Fit:\n",
       "sigma^2 estimated as 280.6,  Conditional Sum-of-Squares = 46678.99,  AIC = 1419.3\n"
      ]
     },
     "metadata": {},
     "output_type": "display_data"
    }
   ],
   "source": [
    "model.1 <- arma(acc.train.dif.adj, order = c(1,1), include.intercept = FALSE) # AIC =  1419.3\n",
    "summary(model.1)"
   ]
  },
  {
   "cell_type": "code",
   "execution_count": 31,
   "metadata": {
    "collapsed": false
   },
   "outputs": [
    {
     "data": {
      "image/png": "[encoded data removed]",
      "text/plain": [
       "Plot with title \"Series  model.1$residuals\""
      ]
     },
     "metadata": {},
     "output_type": "display_data"
    }
   ],
   "source": [
    "Acf(model.1$residuals)"
   ]
  },
  {
   "cell_type": "code",
   "execution_count": 32,
   "metadata": {
    "collapsed": false
   },
   "outputs": [
    {
     "data": {
      "text/plain": [
       "\n",
       "\tJarque Bera Test\n",
       "\n",
       "data:  na.remove(model.1$residuals)\n",
       "X-squared = 0.65899, df = 2, p-value = 0.7193\n"
      ]
     },
     "metadata": {},
     "output_type": "display_data"
    }
   ],
   "source": [
    "jarque.bera.test(na.remove(model.1$residuals))"
   ]
  },
  {
   "cell_type": "code",
   "execution_count": 33,
   "metadata": {
    "collapsed": false
   },
   "outputs": [
    {
     "data": {
      "text/plain": [
       "\n",
       "\t BDS Test \n",
       "\n",
       "data:  na.remove(model.1$residuals) \n",
       "\n",
       "Embedding dimension =  2 3 \n",
       "\n",
       "Epsilon for close points =   8.3757 16.7514 25.1271 33.5028 \n",
       "\n",
       "Standard Normal = \n",
       "      [ 8.3757 ] [ 16.7514 ] [ 25.1271 ] [ 33.5028 ]\n",
       "[ 2 ]    -0.4756     -0.9681     -0.7699     -0.9441\n",
       "[ 3 ]    -0.1811     -0.0944     -0.4071     -0.7277\n",
       "\n",
       "p-value = \n",
       "      [ 8.3757 ] [ 16.7514 ] [ 25.1271 ] [ 33.5028 ]\n",
       "[ 2 ]     0.6344      0.3330      0.4413      0.3451\n",
       "[ 3 ]     0.8563      0.9248      0.6839      0.4668\n",
       "\n"
      ]
     },
     "metadata": {},
     "output_type": "display_data"
    }
   ],
   "source": [
    "bds.test(na.remove(model.1$residuals))"
   ]
  },
  {
   "cell_type": "markdown",
   "metadata": {},
   "source": [
    "#### Ajustamos un ARIMA(2,1,1)"
   ]
  },
  {
   "cell_type": "code",
   "execution_count": 34,
   "metadata": {
    "collapsed": false
   },
   "outputs": [
    {
     "data": {
      "text/plain": [
       "\n",
       "Call:\n",
       "arma(x = acc.train.dif.adj, order = c(2, 1), include.intercept = FALSE)\n",
       "\n",
       "Model:\n",
       "ARMA(2,1)\n",
       "\n",
       "Residuals:\n",
       "    Min      1Q  Median      3Q     Max \n",
       "-36.105  -6.418   2.156  11.723  46.680 \n",
       "\n",
       "Coefficient(s):\n",
       "     Estimate  Std. Error  t value Pr(>|t|)    \n",
       "ar1   0.16314     0.08298    1.966   0.0493 *  \n",
       "ar2   0.10838     0.08413    1.288   0.1976    \n",
       "ma1  -0.86773     0.04236  -20.487   <2e-16 ***\n",
       "---\n",
       "Signif. codes:  0 '***' 0.001 '**' 0.01 '*' 0.05 '.' 0.1 ' ' 1\n",
       "\n",
       "Fit:\n",
       "sigma^2 estimated as 269.1,  Conditional Sum-of-Squares = 45155.79,  AIC = 1414.29\n"
      ]
     },
     "metadata": {},
     "output_type": "display_data"
    }
   ],
   "source": [
    "model.2 <- arma(acc.train.dif.adj, order = c(2,1), include.intercept = FALSE) # AIC = 1414.81\n",
    "summary(model.2)"
   ]
  },
  {
   "cell_type": "code",
   "execution_count": 35,
   "metadata": {
    "collapsed": false
   },
   "outputs": [
    {
     "data": {
      "image/png": "[encoded data removed]",
      "text/plain": [
       "Plot with title \"Series  model.2$residuals\""
      ]
     },
     "metadata": {},
     "output_type": "display_data"
    }
   ],
   "source": [
    "Acf(model.2$residuals)"
   ]
  },
  {
   "cell_type": "code",
   "execution_count": 36,
   "metadata": {
    "collapsed": false
   },
   "outputs": [
    {
     "data": {
      "text/plain": [
       "\n",
       "\tJarque Bera Test\n",
       "\n",
       "data:  na.remove(model.2$residuals)\n",
       "X-squared = 0.50151, df = 2, p-value = 0.7782\n"
      ]
     },
     "metadata": {},
     "output_type": "display_data"
    }
   ],
   "source": [
    "jarque.bera.test(na.remove(model.2$residuals))"
   ]
  },
  {
   "cell_type": "code",
   "execution_count": 37,
   "metadata": {
    "collapsed": false
   },
   "outputs": [
    {
     "data": {
      "text/plain": [
       "\n",
       "\t BDS Test \n",
       "\n",
       "data:  na.remove(model.2$residuals) \n",
       "\n",
       "Embedding dimension =  2 3 \n",
       "\n",
       "Epsilon for close points =   8.2018 16.4036 24.6054 32.8072 \n",
       "\n",
       "Standard Normal = \n",
       "      [ 8.2018 ] [ 16.4036 ] [ 24.6054 ] [ 32.8072 ]\n",
       "[ 2 ]    -1.0469     -1.2213     -1.4867     -1.8768\n",
       "[ 3 ]    -0.7925     -0.7553     -1.1963     -1.7652\n",
       "\n",
       "p-value = \n",
       "      [ 8.2018 ] [ 16.4036 ] [ 24.6054 ] [ 32.8072 ]\n",
       "[ 2 ]     0.2952      0.2220      0.1371      0.0605\n",
       "[ 3 ]     0.4281      0.4501      0.2316      0.0775\n",
       "\n"
      ]
     },
     "metadata": {},
     "output_type": "display_data"
    }
   ],
   "source": [
    "bds.test(na.remove(model.2$residuals))"
   ]
  },
  {
   "cell_type": "markdown",
   "metadata": {},
   "source": [
    "#### Graficamos ambos modelos"
   ]
  },
  {
   "cell_type": "code",
   "execution_count": 38,
   "metadata": {
    "collapsed": false
   },
   "outputs": [
    {
     "name": "stderr",
     "output_type": "stream",
     "text": [
      "Don't know how to automatically pick scale for object of type yearmon. Defaulting to continuous.\n",
      "Warning message:\n",
      "\"Removed 1 rows containing missing values (geom_path).\"Warning message:\n",
      "\"Removed 2 rows containing missing values (geom_path).\""
     ]
    },
    {
     "data": {},
     "metadata": {},
     "output_type": "display_data"
    },
    {
     "data": {
      "image/png": "[encoded data removed]",
      "text/plain": [
       "plot without title"
      ]
     },
     "metadata": {},
     "output_type": "display_data"
    }
   ],
   "source": [
    "p <- ggplot() +\n",
    "  geom_line(aes(x = index(as.zoo(acc.train.dif.adj)),\n",
    "                y = coredata(as.zoo(acc.train.dif.adj))), col = 'black') +\n",
    "  geom_line(aes(x = index(as.zoo(fitted(model.1))), y = coredata(as.zoo(fitted(model.1)))), col = 'blue') +\n",
    "  geom_line(aes(x = index(as.zoo(fitted(model.2))), y = coredata(as.zoo(fitted(model.2)))), col = 'red')\n",
    "p"
   ]
  }
 ],
 "metadata": {
  "kernelspec": {
   "display_name": "R",
   "language": "R",
   "name": "ir"
  },
  "language_info": {
   "codemirror_mode": "r",
   "file_extension": ".r",
   "mimetype": "text/x-r-source",
   "name": "R",
   "pygments_lexer": "r",
   "version": "3.3.2"
  }
 },
 "nbformat": 4,
 "nbformat_minor": 2
}
